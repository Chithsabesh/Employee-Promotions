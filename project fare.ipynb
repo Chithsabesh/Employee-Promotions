{
 "cells": [
  {
   "cell_type": "code",
   "execution_count": 357,
   "metadata": {},
   "outputs": [],
   "source": [
    "\n",
    "import pandas as pd\n",
    "import numpy as np\n",
    "import seaborn as sns\n",
    "import matplotlib.pyplot as plt\n",
    "from sklearn.preprocessing import LabelEncoder\n",
    "from sklearn.model_selection import train_test_split\n",
    "from imblearn.over_sampling import SMOTE\n",
    "from sklearn.linear_model import LogisticRegression\n",
    "from sklearn.tree import DecisionTreeClassifier\n",
    "from sklearn.ensemble import RandomForestClassifier\n",
    "from sklearn.metrics import classification_report,confusion_matrix\n",
    "from sklearn.ensemble import AdaBoostClassifier\n",
    "from xgboost import XGBClassifier\n",
    "from sklearn.svm import LinearSVC\n",
    "from sklearn.svm import SVC\n"
   ]
  },
  {
   "cell_type": "code",
   "execution_count": 167,
   "metadata": {},
   "outputs": [
    {
     "data": {
      "text/html": [
       "<div>\n",
       "<style scoped>\n",
       "    .dataframe tbody tr th:only-of-type {\n",
       "        vertical-align: middle;\n",
       "    }\n",
       "\n",
       "    .dataframe tbody tr th {\n",
       "        vertical-align: top;\n",
       "    }\n",
       "\n",
       "    .dataframe thead th {\n",
       "        text-align: right;\n",
       "    }\n",
       "</style>\n",
       "<table border=\"1\" class=\"dataframe\">\n",
       "  <thead>\n",
       "    <tr style=\"text-align: right;\">\n",
       "      <th></th>\n",
       "      <th>employee_id</th>\n",
       "      <th>department</th>\n",
       "      <th>region</th>\n",
       "      <th>education</th>\n",
       "      <th>gender</th>\n",
       "      <th>recruitment_channel</th>\n",
       "      <th>no_of_trainings</th>\n",
       "      <th>age</th>\n",
       "      <th>previous_year_rating</th>\n",
       "      <th>length_of_service</th>\n",
       "      <th>KPIs_met &gt;80%</th>\n",
       "      <th>awards_won?</th>\n",
       "      <th>avg_training_score</th>\n",
       "      <th>is_promoted</th>\n",
       "    </tr>\n",
       "  </thead>\n",
       "  <tbody>\n",
       "    <tr>\n",
       "      <th>0</th>\n",
       "      <td>65438</td>\n",
       "      <td>Sales &amp; Marketing</td>\n",
       "      <td>region_7</td>\n",
       "      <td>Master's &amp; above</td>\n",
       "      <td>f</td>\n",
       "      <td>sourcing</td>\n",
       "      <td>1</td>\n",
       "      <td>35</td>\n",
       "      <td>5.0</td>\n",
       "      <td>8</td>\n",
       "      <td>1</td>\n",
       "      <td>0</td>\n",
       "      <td>49</td>\n",
       "      <td>0</td>\n",
       "    </tr>\n",
       "    <tr>\n",
       "      <th>1</th>\n",
       "      <td>65141</td>\n",
       "      <td>Operations</td>\n",
       "      <td>region_22</td>\n",
       "      <td>Bachelor's</td>\n",
       "      <td>m</td>\n",
       "      <td>other</td>\n",
       "      <td>1</td>\n",
       "      <td>30</td>\n",
       "      <td>5.0</td>\n",
       "      <td>4</td>\n",
       "      <td>0</td>\n",
       "      <td>0</td>\n",
       "      <td>60</td>\n",
       "      <td>0</td>\n",
       "    </tr>\n",
       "    <tr>\n",
       "      <th>2</th>\n",
       "      <td>7513</td>\n",
       "      <td>Sales &amp; Marketing</td>\n",
       "      <td>region_19</td>\n",
       "      <td>Bachelor's</td>\n",
       "      <td>m</td>\n",
       "      <td>sourcing</td>\n",
       "      <td>1</td>\n",
       "      <td>34</td>\n",
       "      <td>3.0</td>\n",
       "      <td>7</td>\n",
       "      <td>0</td>\n",
       "      <td>0</td>\n",
       "      <td>50</td>\n",
       "      <td>0</td>\n",
       "    </tr>\n",
       "    <tr>\n",
       "      <th>3</th>\n",
       "      <td>2542</td>\n",
       "      <td>Sales &amp; Marketing</td>\n",
       "      <td>region_23</td>\n",
       "      <td>Bachelor's</td>\n",
       "      <td>m</td>\n",
       "      <td>other</td>\n",
       "      <td>2</td>\n",
       "      <td>39</td>\n",
       "      <td>1.0</td>\n",
       "      <td>10</td>\n",
       "      <td>0</td>\n",
       "      <td>0</td>\n",
       "      <td>50</td>\n",
       "      <td>0</td>\n",
       "    </tr>\n",
       "    <tr>\n",
       "      <th>4</th>\n",
       "      <td>48945</td>\n",
       "      <td>Technology</td>\n",
       "      <td>region_26</td>\n",
       "      <td>Bachelor's</td>\n",
       "      <td>m</td>\n",
       "      <td>other</td>\n",
       "      <td>1</td>\n",
       "      <td>45</td>\n",
       "      <td>3.0</td>\n",
       "      <td>2</td>\n",
       "      <td>0</td>\n",
       "      <td>0</td>\n",
       "      <td>73</td>\n",
       "      <td>0</td>\n",
       "    </tr>\n",
       "  </tbody>\n",
       "</table>\n",
       "</div>"
      ],
      "text/plain": [
       "   employee_id         department     region         education gender  \\\n",
       "0        65438  Sales & Marketing   region_7  Master's & above      f   \n",
       "1        65141         Operations  region_22        Bachelor's      m   \n",
       "2         7513  Sales & Marketing  region_19        Bachelor's      m   \n",
       "3         2542  Sales & Marketing  region_23        Bachelor's      m   \n",
       "4        48945         Technology  region_26        Bachelor's      m   \n",
       "\n",
       "  recruitment_channel  no_of_trainings  age  previous_year_rating  \\\n",
       "0            sourcing                1   35                   5.0   \n",
       "1               other                1   30                   5.0   \n",
       "2            sourcing                1   34                   3.0   \n",
       "3               other                2   39                   1.0   \n",
       "4               other                1   45                   3.0   \n",
       "\n",
       "   length_of_service  KPIs_met >80%  awards_won?  avg_training_score  \\\n",
       "0                  8              1            0                  49   \n",
       "1                  4              0            0                  60   \n",
       "2                  7              0            0                  50   \n",
       "3                 10              0            0                  50   \n",
       "4                  2              0            0                  73   \n",
       "\n",
       "   is_promoted  \n",
       "0            0  \n",
       "1            0  \n",
       "2            0  \n",
       "3            0  \n",
       "4            0  "
      ]
     },
     "execution_count": 167,
     "metadata": {},
     "output_type": "execute_result"
    }
   ],
   "source": [
    "train_hr = pd.read_csv('train_LZdllcl.csv')\n",
    "train_hr.head()"
   ]
  },
  {
   "cell_type": "code",
   "execution_count": 168,
   "metadata": {},
   "outputs": [
    {
     "name": "stdout",
     "output_type": "stream",
     "text": [
      "<class 'pandas.core.frame.DataFrame'>\n",
      "RangeIndex: 54808 entries, 0 to 54807\n",
      "Data columns (total 14 columns):\n",
      "employee_id             54808 non-null int64\n",
      "department              54808 non-null object\n",
      "region                  54808 non-null object\n",
      "education               52399 non-null object\n",
      "gender                  54808 non-null object\n",
      "recruitment_channel     54808 non-null object\n",
      "no_of_trainings         54808 non-null int64\n",
      "age                     54808 non-null int64\n",
      "previous_year_rating    50684 non-null float64\n",
      "length_of_service       54808 non-null int64\n",
      "KPIs_met >80%           54808 non-null int64\n",
      "awards_won?             54808 non-null int64\n",
      "avg_training_score      54808 non-null int64\n",
      "is_promoted             54808 non-null int64\n",
      "dtypes: float64(1), int64(8), object(5)\n",
      "memory usage: 5.9+ MB\n"
     ]
    }
   ],
   "source": [
    "train_hr.info()"
   ]
  },
  {
   "cell_type": "code",
   "execution_count": 169,
   "metadata": {},
   "outputs": [
    {
     "data": {
      "text/plain": [
       "(54808, 14)"
      ]
     },
     "execution_count": 169,
     "metadata": {},
     "output_type": "execute_result"
    }
   ],
   "source": [
    "train_hr.shape"
   ]
  },
  {
   "cell_type": "code",
   "execution_count": 170,
   "metadata": {},
   "outputs": [],
   "source": [
    "train_hr_dropna =  train_hr.dropna(axis=0)"
   ]
  },
  {
   "cell_type": "code",
   "execution_count": 171,
   "metadata": {},
   "outputs": [
    {
     "data": {
      "text/plain": [
       "(48660, 14)"
      ]
     },
     "execution_count": 171,
     "metadata": {},
     "output_type": "execute_result"
    }
   ],
   "source": [
    "train_hr_dropna.shape"
   ]
  },
  {
   "cell_type": "code",
   "execution_count": 172,
   "metadata": {},
   "outputs": [],
   "source": [
    "train_hr_dropna_copy = train_hr_dropna.copy()"
   ]
  },
  {
   "cell_type": "code",
   "execution_count": 173,
   "metadata": {},
   "outputs": [
    {
     "data": {
      "text/plain": [
       "0    44428\n",
       "1     4232\n",
       "Name: is_promoted, dtype: int64"
      ]
     },
     "execution_count": 173,
     "metadata": {},
     "output_type": "execute_result"
    }
   ],
   "source": [
    "train_hr_dropna['is_promoted'].value_counts()"
   ]
  },
  {
   "cell_type": "code",
   "execution_count": 174,
   "metadata": {},
   "outputs": [
    {
     "data": {
      "text/plain": [
       "0    91.302918\n",
       "1     8.697082\n",
       "Name: is_promoted, dtype: float64"
      ]
     },
     "execution_count": 174,
     "metadata": {},
     "output_type": "execute_result"
    }
   ],
   "source": [
    "train_hr_dropna['is_promoted'].value_counts()/train_hr_dropna.shape[0]*100\n"
   ]
  },
  {
   "cell_type": "code",
   "execution_count": 175,
   "metadata": {},
   "outputs": [
    {
     "name": "stderr",
     "output_type": "stream",
     "text": [
      "C:\\Users\\Chithsabesh\\AppData\\Local\\Continuum\\anaconda3\\lib\\site-packages\\scipy\\stats\\stats.py:1713: FutureWarning: Using a non-tuple sequence for multidimensional indexing is deprecated; use `arr[tuple(seq)]` instead of `arr[seq]`. In the future this will be interpreted as an array index, `arr[np.array(seq)]`, which will result either in an error or a different result.\n",
      "  return np.add.reduce(sorted[indexer] * weights, axis=axis) / sumval\n"
     ]
    },
    {
     "data": {
      "image/png": "[encoded data removed]",
      "text/plain": [
       "<Figure size 432x288 with 1 Axes>"
      ]
     },
     "metadata": {
      "needs_background": "light"
     },
     "output_type": "display_data"
    }
   ],
   "source": [
    "age_dist = sns.distplot(train_hr_dropna['age'])"
   ]
  },
  {
   "cell_type": "code",
   "execution_count": 176,
   "metadata": {},
   "outputs": [
    {
     "data": {
      "text/plain": [
       "array([[<matplotlib.axes._subplots.AxesSubplot object at 0x000001FAF958E320>,\n",
       "        <matplotlib.axes._subplots.AxesSubplot object at 0x000001FAF95A6E80>,\n",
       "        <matplotlib.axes._subplots.AxesSubplot object at 0x000001FAF960A128>],\n",
       "       [<matplotlib.axes._subplots.AxesSubplot object at 0x000001FAF9628390>,\n",
       "        <matplotlib.axes._subplots.AxesSubplot object at 0x000001FAF95C45F8>,\n",
       "        <matplotlib.axes._subplots.AxesSubplot object at 0x000001FAF95E1860>],\n",
       "       [<matplotlib.axes._subplots.AxesSubplot object at 0x000001FAF95FDAC8>,\n",
       "        <matplotlib.axes._subplots.AxesSubplot object at 0x000001FA80A08D68>,\n",
       "        <matplotlib.axes._subplots.AxesSubplot object at 0x000001FA80A08DA0>]],\n",
       "      dtype=object)"
      ]
     },
     "execution_count": 176,
     "metadata": {},
     "output_type": "execute_result"
    },
    {
     "data": {
      "image/png": "[encoded data removed]",
      "text/plain": [
       "<Figure size 1440x1440 with 9 Axes>"
      ]
     },
     "metadata": {
      "needs_background": "light"
     },
     "output_type": "display_data"
    }
   ],
   "source": [
    "train_hr_dropna.hist(figsize=(20,20))"
   ]
  },
  {
   "cell_type": "code",
   "execution_count": 177,
   "metadata": {},
   "outputs": [
    {
     "data": {
      "text/plain": [
       "<matplotlib.axes._subplots.AxesSubplot at 0x1fa80a80278>"
      ]
     },
     "execution_count": 177,
     "metadata": {},
     "output_type": "execute_result"
    },
    {
     "data": {
      "image/png": "[encoded data removed]",
      "text/plain": [
       "<Figure size 432x288 with 1 Axes>"
      ]
     },
     "metadata": {
      "needs_background": "light"
     },
     "output_type": "display_data"
    }
   ],
   "source": [
    "sns.distplot(train_hr_dropna['length_of_service']) \n",
    "\n"
   ]
  },
  {
   "cell_type": "code",
   "execution_count": 178,
   "metadata": {},
   "outputs": [
    {
     "data": {
      "text/plain": [
       "Sales & Marketing    29.262228\n",
       "Operations           21.674887\n",
       "Procurement          13.647760\n",
       "Technology           13.362104\n",
       "Analytics             9.473901\n",
       "Finance               4.560214\n",
       "HR                    4.401973\n",
       "R&D                   1.835183\n",
       "Legal                 1.781751\n",
       "Name: department, dtype: float64"
      ]
     },
     "execution_count": 178,
     "metadata": {},
     "output_type": "execute_result"
    }
   ],
   "source": [
    "train_hr_dropna['department'].value_counts()/train_hr_dropna.shape[0]*100"
   ]
  },
  {
   "cell_type": "code",
   "execution_count": 179,
   "metadata": {},
   "outputs": [
    {
     "data": {
      "text/plain": [
       "<matplotlib.axes._subplots.AxesSubplot at 0x1fa80ad1940>"
      ]
     },
     "execution_count": 179,
     "metadata": {},
     "output_type": "execute_result"
    },
    {
     "data": {
      "image/png": "[encoded data removed]",
      "text/plain": [
       "<Figure size 1152x432 with 1 Axes>"
      ]
     },
     "metadata": {
      "needs_background": "light"
     },
     "output_type": "display_data"
    }
   ],
   "source": [
    "plt.figure(figsize=(16, 6))\n",
    "sns.countplot(x='department',data=train_hr_dropna)"
   ]
  },
  {
   "cell_type": "code",
   "execution_count": 180,
   "metadata": {},
   "outputs": [
    {
     "data": {
      "text/plain": [
       "Bachelor's          68.647760\n",
       "Master's & above    30.411015\n",
       "Below Secondary      0.941225\n",
       "Name: education, dtype: float64"
      ]
     },
     "execution_count": 180,
     "metadata": {},
     "output_type": "execute_result"
    }
   ],
   "source": [
    "train_hr_dropna['education'].value_counts()/train_hr_dropna.shape[0]*100"
   ]
  },
  {
   "cell_type": "code",
   "execution_count": 181,
   "metadata": {},
   "outputs": [
    {
     "data": {
      "text/plain": [
       "<matplotlib.axes._subplots.AxesSubplot at 0x1fa80bd0e80>"
      ]
     },
     "execution_count": 181,
     "metadata": {},
     "output_type": "execute_result"
    },
    {
     "data": {
      "image/png": "[encoded data removed]",
      "text/plain": [
       "<Figure size 1152x432 with 1 Axes>"
      ]
     },
     "metadata": {
      "needs_background": "light"
     },
     "output_type": "display_data"
    }
   ],
   "source": [
    "plt.figure(figsize=(16, 6))\n",
    "sns.countplot(x='education',data=train_hr_dropna)"
   ]
  },
  {
   "cell_type": "code",
   "execution_count": 182,
   "metadata": {},
   "outputs": [
    {
     "data": {
      "text/plain": [
       "region_2     22.217427\n",
       "region_22    11.169338\n",
       "region_7      9.036169\n",
       "region_15     5.162351\n",
       "region_13     5.061652\n",
       "region_26     4.040279\n",
       "region_31     3.477189\n",
       "region_4      3.341554\n",
       "region_27     2.914098\n",
       "region_16     2.710645\n",
       "region_11     2.443485\n",
       "region_28     2.348952\n",
       "region_23     2.268804\n",
       "region_29     1.841348\n",
       "region_19     1.722154\n",
       "region_20     1.602959\n",
       "region_32     1.588574\n",
       "region_14     1.582409\n",
       "region_17     1.524866\n",
       "region_25     1.481710\n",
       "region_5      1.418002\n",
       "region_10     1.261817\n",
       "region_30     1.237156\n",
       "region_6      1.189889\n",
       "region_8      1.187834\n",
       "region_1      1.136457\n",
       "region_24     0.949445\n",
       "region_12     0.873407\n",
       "region_21     0.760378\n",
       "region_3      0.680230\n",
       "region_9      0.665845\n",
       "region_33     0.534320\n",
       "region_34     0.519934\n",
       "region_18     0.049322\n",
       "Name: region, dtype: float64"
      ]
     },
     "execution_count": 182,
     "metadata": {},
     "output_type": "execute_result"
    }
   ],
   "source": [
    "train_hr_dropna['region'].value_counts()/train_hr_dropna.shape[0]*100"
   ]
  },
  {
   "cell_type": "code",
   "execution_count": 183,
   "metadata": {},
   "outputs": [
    {
     "data": {
      "text/plain": [
       "<matplotlib.axes._subplots.AxesSubplot at 0x1fa80beeda0>"
      ]
     },
     "execution_count": 183,
     "metadata": {},
     "output_type": "execute_result"
    },
    {
     "data": {
      "image/png": "[encoded data removed]",
      "text/plain": [
       "<Figure size 2160x432 with 1 Axes>"
      ]
     },
     "metadata": {
      "needs_background": "light"
     },
     "output_type": "display_data"
    }
   ],
   "source": [
    "plt.figure(figsize=(30, 6))\n",
    "sns.countplot(x='region',data=train_hr_dropna)"
   ]
  },
  {
   "cell_type": "code",
   "execution_count": 184,
   "metadata": {},
   "outputs": [
    {
     "data": {
      "text/plain": [
       "m    69.568434\n",
       "f    30.431566\n",
       "Name: gender, dtype: float64"
      ]
     },
     "execution_count": 184,
     "metadata": {},
     "output_type": "execute_result"
    }
   ],
   "source": [
    "train_hr_dropna['gender'].value_counts()/train_hr_dropna.shape[0]*100"
   ]
  },
  {
   "cell_type": "code",
   "execution_count": 185,
   "metadata": {},
   "outputs": [
    {
     "data": {
      "text/plain": [
       "<matplotlib.axes._subplots.AxesSubplot at 0x1fa80bbd7b8>"
      ]
     },
     "execution_count": 185,
     "metadata": {},
     "output_type": "execute_result"
    },
    {
     "data": {
      "image/png": "[encoded data removed]",
      "text/plain": [
       "<Figure size 1008x432 with 1 Axes>"
      ]
     },
     "metadata": {
      "needs_background": "light"
     },
     "output_type": "display_data"
    }
   ],
   "source": [
    "plt.figure(figsize=(14, 6))\n",
    "sns.countplot(x='gender',data=train_hr_dropna)"
   ]
  },
  {
   "cell_type": "code",
   "execution_count": 186,
   "metadata": {},
   "outputs": [
    {
     "data": {
      "text/plain": [
       "other       55.521989\n",
       "sourcing    42.381833\n",
       "referred     2.096178\n",
       "Name: recruitment_channel, dtype: float64"
      ]
     },
     "execution_count": 186,
     "metadata": {},
     "output_type": "execute_result"
    }
   ],
   "source": [
    "train_hr_dropna['recruitment_channel'].value_counts()/train_hr_dropna.shape[0]*100"
   ]
  },
  {
   "cell_type": "code",
   "execution_count": 187,
   "metadata": {},
   "outputs": [
    {
     "data": {
      "text/plain": [
       "<matplotlib.axes._subplots.AxesSubplot at 0x1fa80c878d0>"
      ]
     },
     "execution_count": 187,
     "metadata": {},
     "output_type": "execute_result"
    },
    {
     "data": {
      "image/png": "[encoded data removed]",
      "text/plain": [
       "<Figure size 1008x432 with 1 Axes>"
      ]
     },
     "metadata": {
      "needs_background": "light"
     },
     "output_type": "display_data"
    }
   ],
   "source": [
    "plt.figure(figsize=(14, 6))\n",
    "sns.countplot(x='recruitment_channel',data=train_hr_dropna)"
   ]
  },
  {
   "cell_type": "code",
   "execution_count": 189,
   "metadata": {},
   "outputs": [
    {
     "data": {
      "text/plain": [
       "3     13.727908\n",
       "4     13.532676\n",
       "2     12.710645\n",
       "5     11.553637\n",
       "7     11.066584\n",
       "6      9.416358\n",
       "8      5.762433\n",
       "9      5.250719\n",
       "10     4.397863\n",
       "11     1.833128\n",
       "12     1.594739\n",
       "13     1.356350\n",
       "15     1.191944\n",
       "16     1.107686\n",
       "14     1.101521\n",
       "17     0.875462\n",
       "18     0.789149\n",
       "1      0.780929\n",
       "19     0.655569\n",
       "20     0.263050\n",
       "21     0.152076\n",
       "24     0.137690\n",
       "23     0.127415\n",
       "22     0.123305\n",
       "25     0.100699\n",
       "26     0.084258\n",
       "27     0.073983\n",
       "29     0.061652\n",
       "28     0.059597\n",
       "31     0.039046\n",
       "30     0.024661\n",
       "33     0.018496\n",
       "32     0.018496\n",
       "34     0.008220\n",
       "37     0.002055\n",
       "Name: length_of_service, dtype: float64"
      ]
     },
     "execution_count": 189,
     "metadata": {},
     "output_type": "execute_result"
    }
   ],
   "source": [
    "train_hr_dropna['length_of_service'].value_counts()/train_hr_dropna.shape[0]*100"
   ]
  },
  {
   "cell_type": "code",
   "execution_count": 190,
   "metadata": {},
   "outputs": [
    {
     "data": {
      "text/plain": [
       "3     6680\n",
       "4     6585\n",
       "2     6185\n",
       "5     5622\n",
       "7     5385\n",
       "6     4582\n",
       "8     2804\n",
       "9     2555\n",
       "10    2140\n",
       "11     892\n",
       "12     776\n",
       "13     660\n",
       "15     580\n",
       "16     539\n",
       "14     536\n",
       "17     426\n",
       "18     384\n",
       "1      380\n",
       "19     319\n",
       "20     128\n",
       "21      74\n",
       "24      67\n",
       "23      62\n",
       "22      60\n",
       "25      49\n",
       "26      41\n",
       "27      36\n",
       "29      30\n",
       "28      29\n",
       "31      19\n",
       "30      12\n",
       "33       9\n",
       "32       9\n",
       "34       4\n",
       "37       1\n",
       "Name: length_of_service, dtype: int64"
      ]
     },
     "execution_count": 190,
     "metadata": {},
     "output_type": "execute_result"
    }
   ],
   "source": [
    "train_hr_dropna['length_of_service'].value_counts()"
   ]
  },
  {
   "cell_type": "code",
   "execution_count": 191,
   "metadata": {},
   "outputs": [
    {
     "data": {
      "text/plain": [
       "3.0    17867\n",
       "5.0    11362\n",
       "4.0     9509\n",
       "1.0     5887\n",
       "2.0     4035\n",
       "Name: previous_year_rating, dtype: int64"
      ]
     },
     "execution_count": 191,
     "metadata": {},
     "output_type": "execute_result"
    }
   ],
   "source": [
    "train_hr_dropna['previous_year_rating'].value_counts()"
   ]
  },
  {
   "cell_type": "code",
   "execution_count": 192,
   "metadata": {},
   "outputs": [
    {
     "data": {
      "text/plain": [
       "3.0    36.718044\n",
       "5.0    23.349774\n",
       "4.0    19.541718\n",
       "1.0    12.098233\n",
       "2.0     8.292232\n",
       "Name: previous_year_rating, dtype: float64"
      ]
     },
     "execution_count": 192,
     "metadata": {},
     "output_type": "execute_result"
    }
   ],
   "source": [
    "train_hr_dropna['previous_year_rating'].value_counts()/train_hr_dropna.shape[0]*100"
   ]
  },
  {
   "cell_type": "code",
   "execution_count": 193,
   "metadata": {},
   "outputs": [
    {
     "data": {
      "text/plain": [
       "<matplotlib.axes._subplots.AxesSubplot at 0x1fa80d1b320>"
      ]
     },
     "execution_count": 193,
     "metadata": {},
     "output_type": "execute_result"
    },
    {
     "data": {
      "image/png": "[encoded data removed]",
      "text/plain": [
       "<Figure size 1008x432 with 1 Axes>"
      ]
     },
     "metadata": {
      "needs_background": "light"
     },
     "output_type": "display_data"
    }
   ],
   "source": [
    "plt.figure(figsize=(14, 6))\n",
    "sns.countplot(x='previous_year_rating',data=train_hr_dropna)"
   ]
  },
  {
   "cell_type": "code",
   "execution_count": 194,
   "metadata": {},
   "outputs": [
    {
     "data": {
      "text/plain": [
       "0    31314\n",
       "1    17346\n",
       "Name: KPIs_met >80%, dtype: int64"
      ]
     },
     "execution_count": 194,
     "metadata": {},
     "output_type": "execute_result"
    }
   ],
   "source": [
    "train_hr_dropna['KPIs_met >80%'].value_counts()"
   ]
  },
  {
   "cell_type": "code",
   "execution_count": 195,
   "metadata": {},
   "outputs": [
    {
     "data": {
      "text/plain": [
       "<matplotlib.axes._subplots.AxesSubplot at 0x1fa80d2c550>"
      ]
     },
     "execution_count": 195,
     "metadata": {},
     "output_type": "execute_result"
    },
    {
     "data": {
      "image/png": "[encoded data removed]",
      "text/plain": [
       "<Figure size 720x432 with 1 Axes>"
      ]
     },
     "metadata": {
      "needs_background": "light"
     },
     "output_type": "display_data"
    }
   ],
   "source": [
    "plt.figure(figsize=(10, 6))\n",
    "sns.countplot(x='KPIs_met >80%',data=train_hr_dropna)"
   ]
  },
  {
   "cell_type": "code",
   "execution_count": 196,
   "metadata": {},
   "outputs": [
    {
     "data": {
      "text/plain": [
       "0    47534\n",
       "1     1126\n",
       "Name: awards_won?, dtype: int64"
      ]
     },
     "execution_count": 196,
     "metadata": {},
     "output_type": "execute_result"
    }
   ],
   "source": [
    "train_hr_dropna['awards_won?'].value_counts()"
   ]
  },
  {
   "cell_type": "code",
   "execution_count": 197,
   "metadata": {},
   "outputs": [
    {
     "data": {
      "text/plain": [
       "<matplotlib.axes._subplots.AxesSubplot at 0x1fa80dbc4a8>"
      ]
     },
     "execution_count": 197,
     "metadata": {},
     "output_type": "execute_result"
    },
    {
     "data": {
      "image/png": "[encoded data removed]",
      "text/plain": [
       "<Figure size 720x432 with 1 Axes>"
      ]
     },
     "metadata": {
      "needs_background": "light"
     },
     "output_type": "display_data"
    }
   ],
   "source": [
    "plt.figure(figsize=(10, 6))\n",
    "sns.countplot(x='KPIs_met >80%',data=train_hr_dropna)"
   ]
  },
  {
   "cell_type": "code",
   "execution_count": 198,
   "metadata": {},
   "outputs": [
    {
     "data": {
      "text/plain": [
       "<matplotlib.axes._subplots.AxesSubplot at 0x1fa812c6438>"
      ]
     },
     "execution_count": 198,
     "metadata": {},
     "output_type": "execute_result"
    },
    {
     "data": {
      "image/png": "[encoded data removed]",
      "text/plain": [
       "<Figure size 2160x864 with 2 Axes>"
      ]
     },
     "metadata": {
      "needs_background": "light"
     },
     "output_type": "display_data"
    }
   ],
   "source": [
    "#corelation matrix.\n",
    "cor_mat= train_hr_dropna.corr()\n",
    "mask = np.array(cor_mat)\n",
    "mask[np.tril_indices_from(mask)] = False\n",
    "fig=plt.gcf()\n",
    "fig.set_size_inches(30,12)\n",
    "sns.heatmap(data=cor_mat,mask=mask,square=True,annot=True,cbar=True)"
   ]
  },
  {
   "cell_type": "code",
   "execution_count": 199,
   "metadata": {},
   "outputs": [
    {
     "name": "stderr",
     "output_type": "stream",
     "text": [
      "C:\\Users\\Chithsabesh\\AppData\\Local\\Continuum\\anaconda3\\lib\\site-packages\\seaborn\\categorical.py:3666: UserWarning: The `factorplot` function has been renamed to `catplot`. The original name will be removed in a future release. Please update your code. Note that the default `kind` in `factorplot` (`'point'`) has changed `'strip'` in `catplot`.\n",
      "  warnings.warn(msg)\n",
      "C:\\Users\\Chithsabesh\\AppData\\Local\\Continuum\\anaconda3\\lib\\site-packages\\seaborn\\categorical.py:3672: UserWarning: The `size` paramter has been renamed to `height`; please update your code.\n",
      "  warnings.warn(msg, UserWarning)\n"
     ]
    },
    {
     "data": {
      "text/plain": [
       "<seaborn.axisgrid.FacetGrid at 0x1fa80d21d68>"
      ]
     },
     "execution_count": 199,
     "metadata": {},
     "output_type": "execute_result"
    },
    {
     "data": {
      "image/png": "[encoded data removed]",
      "text/plain": [
       "<Figure size 360x360 with 1 Axes>"
      ]
     },
     "metadata": {
      "needs_background": "light"
     },
     "output_type": "display_data"
    }
   ],
   "source": [
    "#3.1 ) Plotting the Features against the 'Target' variable.\n",
    "# Age\n",
    "sns.factorplot(data=train_hr_dropna,y='age',x='is_promoted',size=5,aspect=1,kind='box')"
   ]
  },
  {
   "cell_type": "code",
   "execution_count": 200,
   "metadata": {},
   "outputs": [
    {
     "name": "stderr",
     "output_type": "stream",
     "text": [
      "C:\\Users\\Chithsabesh\\AppData\\Local\\Continuum\\anaconda3\\lib\\site-packages\\seaborn\\categorical.py:3666: UserWarning: The `factorplot` function has been renamed to `catplot`. The original name will be removed in a future release. Please update your code. Note that the default `kind` in `factorplot` (`'point'`) has changed `'strip'` in `catplot`.\n",
      "  warnings.warn(msg)\n"
     ]
    },
    {
     "data": {
      "text/plain": [
       "<seaborn.axisgrid.FacetGrid at 0x1fa80d8cef0>"
      ]
     },
     "execution_count": 200,
     "metadata": {},
     "output_type": "execute_result"
    },
    {
     "data": {
      "text/plain": [
       "<Figure size 1728x1008 with 0 Axes>"
      ]
     },
     "metadata": {},
     "output_type": "display_data"
    },
    {
     "data": {
      "image/png": "[encoded data removed]",
      "text/plain": [
       "<Figure size 3240x360 with 9 Axes>"
      ]
     },
     "metadata": {
      "needs_background": "light"
     },
     "output_type": "display_data"
    }
   ],
   "source": [
    "plt.figure(figsize=(24, 14))\n",
    "sns.factorplot(data=train_hr_dropna,kind='count',x='is_promoted',col='department')"
   ]
  },
  {
   "cell_type": "code",
   "execution_count": 201,
   "metadata": {},
   "outputs": [
    {
     "data": {
      "text/html": [
       "<div>\n",
       "<style scoped>\n",
       "    .dataframe tbody tr th:only-of-type {\n",
       "        vertical-align: middle;\n",
       "    }\n",
       "\n",
       "    .dataframe tbody tr th {\n",
       "        vertical-align: top;\n",
       "    }\n",
       "\n",
       "    .dataframe thead th {\n",
       "        text-align: right;\n",
       "    }\n",
       "</style>\n",
       "<table border=\"1\" class=\"dataframe\">\n",
       "  <thead>\n",
       "    <tr style=\"text-align: right;\">\n",
       "      <th>is_promoted</th>\n",
       "      <th>0</th>\n",
       "      <th>1</th>\n",
       "    </tr>\n",
       "    <tr>\n",
       "      <th>department</th>\n",
       "      <th></th>\n",
       "      <th></th>\n",
       "    </tr>\n",
       "  </thead>\n",
       "  <tbody>\n",
       "    <tr>\n",
       "      <th>Analytics</th>\n",
       "      <td>0.903471</td>\n",
       "      <td>0.096529</td>\n",
       "    </tr>\n",
       "    <tr>\n",
       "      <th>Finance</th>\n",
       "      <td>0.917981</td>\n",
       "      <td>0.082019</td>\n",
       "    </tr>\n",
       "    <tr>\n",
       "      <th>HR</th>\n",
       "      <td>0.943511</td>\n",
       "      <td>0.056489</td>\n",
       "    </tr>\n",
       "    <tr>\n",
       "      <th>Legal</th>\n",
       "      <td>0.951557</td>\n",
       "      <td>0.048443</td>\n",
       "    </tr>\n",
       "    <tr>\n",
       "      <th>Operations</th>\n",
       "      <td>0.907177</td>\n",
       "      <td>0.092823</td>\n",
       "    </tr>\n",
       "    <tr>\n",
       "      <th>Procurement</th>\n",
       "      <td>0.901973</td>\n",
       "      <td>0.098027</td>\n",
       "    </tr>\n",
       "    <tr>\n",
       "      <th>R&amp;D</th>\n",
       "      <td>0.935050</td>\n",
       "      <td>0.064950</td>\n",
       "    </tr>\n",
       "    <tr>\n",
       "      <th>Sales &amp; Marketing</th>\n",
       "      <td>0.925557</td>\n",
       "      <td>0.074443</td>\n",
       "    </tr>\n",
       "    <tr>\n",
       "      <th>Technology</th>\n",
       "      <td>0.893264</td>\n",
       "      <td>0.106736</td>\n",
       "    </tr>\n",
       "    <tr>\n",
       "      <th>All</th>\n",
       "      <td>0.913029</td>\n",
       "      <td>0.086971</td>\n",
       "    </tr>\n",
       "  </tbody>\n",
       "</table>\n",
       "</div>"
      ],
      "text/plain": [
       "is_promoted               0         1\n",
       "department                           \n",
       "Analytics          0.903471  0.096529\n",
       "Finance            0.917981  0.082019\n",
       "HR                 0.943511  0.056489\n",
       "Legal              0.951557  0.048443\n",
       "Operations         0.907177  0.092823\n",
       "Procurement        0.901973  0.098027\n",
       "R&D                0.935050  0.064950\n",
       "Sales & Marketing  0.925557  0.074443\n",
       "Technology         0.893264  0.106736\n",
       "All                0.913029  0.086971"
      ]
     },
     "execution_count": 201,
     "metadata": {},
     "output_type": "execute_result"
    }
   ],
   "source": [
    "pd.crosstab(columns=[train_hr_dropna.is_promoted],index=[train_hr_dropna.department],margins=True,normalize='index') # set normalize=index to view rowwise %"
   ]
  },
  {
   "cell_type": "code",
   "execution_count": 202,
   "metadata": {},
   "outputs": [
    {
     "data": {
      "text/plain": [
       "<matplotlib.axes._subplots.AxesSubplot at 0x1fa836c9d30>"
      ]
     },
     "execution_count": 202,
     "metadata": {},
     "output_type": "execute_result"
    },
    {
     "data": {
      "image/png": "[encoded data removed]",
      "text/plain": [
       "<Figure size 432x288 with 1 Axes>"
      ]
     },
     "metadata": {
      "needs_background": "light"
     },
     "output_type": "display_data"
    }
   ],
   "source": [
    "df_Department = pd.DataFrame(columns=[\"Department\", \"% of Promotion\"])\n",
    "i=0\n",
    "for department in list(train_hr_dropna['department'].unique()):\n",
    "    ratio = train_hr_dropna[(train_hr_dropna['department']==department)&(train_hr_dropna['is_promoted']==1)].shape[0] / train_hr_dropna[train_hr_dropna['department']==department].shape[0]\n",
    "    df_Department.loc[i] = (department, ratio*100)\n",
    "    i += 1\n",
    "    #print(\"In {}, the ratio of Promotions is {:.2f}%\".format(field, ratio*100))    \n",
    "df_DF = df_Department.groupby(by=\"Department\").sum()\n",
    "df_DF.plot(kind='bar',title='Promotions by Department (%)')"
   ]
  },
  {
   "cell_type": "code",
   "execution_count": 203,
   "metadata": {},
   "outputs": [
    {
     "name": "stderr",
     "output_type": "stream",
     "text": [
      "C:\\Users\\Chithsabesh\\AppData\\Local\\Continuum\\anaconda3\\lib\\site-packages\\seaborn\\categorical.py:3666: UserWarning: The `factorplot` function has been renamed to `catplot`. The original name will be removed in a future release. Please update your code. Note that the default `kind` in `factorplot` (`'point'`) has changed `'strip'` in `catplot`.\n",
      "  warnings.warn(msg)\n"
     ]
    },
    {
     "data": {
      "text/plain": [
       "<seaborn.axisgrid.FacetGrid at 0x1fa83a8f6d8>"
      ]
     },
     "execution_count": 203,
     "metadata": {},
     "output_type": "execute_result"
    },
    {
     "data": {
      "text/plain": [
       "<Figure size 1008x432 with 0 Axes>"
      ]
     },
     "metadata": {},
     "output_type": "display_data"
    },
    {
     "data": {
      "image/png": "[encoded data removed]",
      "text/plain": [
       "<Figure size 1080x360 with 3 Axes>"
      ]
     },
     "metadata": {
      "needs_background": "light"
     },
     "output_type": "display_data"
    }
   ],
   "source": [
    "plt.figure(figsize=(14, 6))\n",
    "sns.factorplot(data=train_hr_dropna,kind='count',x='is_promoted',col='education')"
   ]
  },
  {
   "cell_type": "code",
   "execution_count": 204,
   "metadata": {},
   "outputs": [
    {
     "data": {
      "text/html": [
       "<div>\n",
       "<style scoped>\n",
       "    .dataframe tbody tr th:only-of-type {\n",
       "        vertical-align: middle;\n",
       "    }\n",
       "\n",
       "    .dataframe tbody tr th {\n",
       "        vertical-align: top;\n",
       "    }\n",
       "\n",
       "    .dataframe thead th {\n",
       "        text-align: right;\n",
       "    }\n",
       "</style>\n",
       "<table border=\"1\" class=\"dataframe\">\n",
       "  <thead>\n",
       "    <tr style=\"text-align: right;\">\n",
       "      <th>is_promoted</th>\n",
       "      <th>0</th>\n",
       "      <th>1</th>\n",
       "    </tr>\n",
       "    <tr>\n",
       "      <th>education</th>\n",
       "      <th></th>\n",
       "      <th></th>\n",
       "    </tr>\n",
       "  </thead>\n",
       "  <tbody>\n",
       "    <tr>\n",
       "      <th>Bachelor's</th>\n",
       "      <td>0.918183</td>\n",
       "      <td>0.081817</td>\n",
       "    </tr>\n",
       "    <tr>\n",
       "      <th>Below Secondary</th>\n",
       "      <td>0.921397</td>\n",
       "      <td>0.078603</td>\n",
       "    </tr>\n",
       "    <tr>\n",
       "      <th>Master's &amp; above</th>\n",
       "      <td>0.901135</td>\n",
       "      <td>0.098865</td>\n",
       "    </tr>\n",
       "    <tr>\n",
       "      <th>All</th>\n",
       "      <td>0.913029</td>\n",
       "      <td>0.086971</td>\n",
       "    </tr>\n",
       "  </tbody>\n",
       "</table>\n",
       "</div>"
      ],
      "text/plain": [
       "is_promoted              0         1\n",
       "education                           \n",
       "Bachelor's        0.918183  0.081817\n",
       "Below Secondary   0.921397  0.078603\n",
       "Master's & above  0.901135  0.098865\n",
       "All               0.913029  0.086971"
      ]
     },
     "execution_count": 204,
     "metadata": {},
     "output_type": "execute_result"
    }
   ],
   "source": [
    "pd.crosstab(columns=[train_hr_dropna.is_promoted],index=[train_hr_dropna.education],margins=True,normalize='index')"
   ]
  },
  {
   "cell_type": "code",
   "execution_count": 205,
   "metadata": {},
   "outputs": [
    {
     "name": "stderr",
     "output_type": "stream",
     "text": [
      "C:\\Users\\Chithsabesh\\AppData\\Local\\Continuum\\anaconda3\\lib\\site-packages\\ipykernel_launcher.py:4: UserWarning: Boolean Series key will be reindexed to match DataFrame index.\n",
      "  after removing the cwd from sys.path.\n",
      "C:\\Users\\Chithsabesh\\AppData\\Local\\Continuum\\anaconda3\\lib\\site-packages\\ipykernel_launcher.py:4: UserWarning: Boolean Series key will be reindexed to match DataFrame index.\n",
      "  after removing the cwd from sys.path.\n",
      "C:\\Users\\Chithsabesh\\AppData\\Local\\Continuum\\anaconda3\\lib\\site-packages\\ipykernel_launcher.py:4: UserWarning: Boolean Series key will be reindexed to match DataFrame index.\n",
      "  after removing the cwd from sys.path.\n"
     ]
    },
    {
     "data": {
      "text/plain": [
       "<matplotlib.axes._subplots.AxesSubplot at 0x1fa83b8c518>"
      ]
     },
     "execution_count": 205,
     "metadata": {},
     "output_type": "execute_result"
    },
    {
     "data": {
      "image/png": "[encoded data removed]",
      "text/plain": [
       "<Figure size 432x288 with 1 Axes>"
      ]
     },
     "metadata": {
      "needs_background": "light"
     },
     "output_type": "display_data"
    }
   ],
   "source": [
    "df_EducationField = pd.DataFrame(columns=[\"Field\", \"% of Promotion\"])\n",
    "i=0\n",
    "for field in list(train_hr_dropna['education'].unique()):\n",
    "    ratio = train_hr_dropna[(train_hr_dropna['education']==field)&(train_hr['is_promoted']==1)].shape[0] / train_hr_dropna[train_hr_dropna['education']==field].shape[0]\n",
    "    df_EducationField.loc[i] = (field, ratio*100)\n",
    "    i += 1\n",
    "    #print(\"In {}, the ratio of Promotions is {:.2f}%\".format(field, ratio*100))    \n",
    "df_EF = df_EducationField.groupby(by=\"Field\").sum()\n",
    "df_EF.plot(kind='bar',title='Promotions by Education Field (%)')"
   ]
  },
  {
   "cell_type": "code",
   "execution_count": 206,
   "metadata": {},
   "outputs": [
    {
     "data": {
      "text/html": [
       "<div>\n",
       "<style scoped>\n",
       "    .dataframe tbody tr th:only-of-type {\n",
       "        vertical-align: middle;\n",
       "    }\n",
       "\n",
       "    .dataframe tbody tr th {\n",
       "        vertical-align: top;\n",
       "    }\n",
       "\n",
       "    .dataframe thead th {\n",
       "        text-align: right;\n",
       "    }\n",
       "</style>\n",
       "<table border=\"1\" class=\"dataframe\">\n",
       "  <thead>\n",
       "    <tr style=\"text-align: right;\">\n",
       "      <th>is_promoted</th>\n",
       "      <th>0</th>\n",
       "      <th>1</th>\n",
       "    </tr>\n",
       "    <tr>\n",
       "      <th>gender</th>\n",
       "      <th></th>\n",
       "      <th></th>\n",
       "    </tr>\n",
       "  </thead>\n",
       "  <tbody>\n",
       "    <tr>\n",
       "      <th>f</th>\n",
       "      <td>0.907955</td>\n",
       "      <td>0.092045</td>\n",
       "    </tr>\n",
       "    <tr>\n",
       "      <th>m</th>\n",
       "      <td>0.915249</td>\n",
       "      <td>0.084751</td>\n",
       "    </tr>\n",
       "    <tr>\n",
       "      <th>All</th>\n",
       "      <td>0.913029</td>\n",
       "      <td>0.086971</td>\n",
       "    </tr>\n",
       "  </tbody>\n",
       "</table>\n",
       "</div>"
      ],
      "text/plain": [
       "is_promoted         0         1\n",
       "gender                         \n",
       "f            0.907955  0.092045\n",
       "m            0.915249  0.084751\n",
       "All          0.913029  0.086971"
      ]
     },
     "execution_count": 206,
     "metadata": {},
     "output_type": "execute_result"
    }
   ],
   "source": [
    "pd.crosstab(columns=[train_hr_dropna.is_promoted],index=[train_hr_dropna.gender],margins=True,normalize='index')"
   ]
  },
  {
   "cell_type": "code",
   "execution_count": 207,
   "metadata": {},
   "outputs": [
    {
     "data": {
      "text/plain": [
       "<matplotlib.axes._subplots.AxesSubplot at 0x1fa85c34d68>"
      ]
     },
     "execution_count": 207,
     "metadata": {},
     "output_type": "execute_result"
    },
    {
     "data": {
      "image/png": "[encoded data removed]",
      "text/plain": [
       "<Figure size 432x288 with 1 Axes>"
      ]
     },
     "metadata": {
      "needs_background": "light"
     },
     "output_type": "display_data"
    }
   ],
   "source": [
    "df_gender = pd.DataFrame(columns=[\"Gender\", \"% of Promotion\"])\n",
    "i=0\n",
    "for gender in list(train_hr_dropna['gender'].unique()):\n",
    "    ratio = train_hr_dropna[(train_hr_dropna['gender']==gender)&(train_hr_dropna['is_promoted']==1)].shape[0] / train_hr_dropna[train_hr_dropna['gender']==gender].shape[0]\n",
    "    df_gender.loc[i] = (gender, ratio*100)\n",
    "    i += 1\n",
    "    #print(\"In {}, the ratio of Promotions is {:.2f}%\".format(field, ratio*100))    \n",
    "df_gender = df_gender.groupby(by=\"Gender\").sum()\n",
    "df_gender.plot(kind='bar',title='Promotions by gender (%)')"
   ]
  },
  {
   "cell_type": "code",
   "execution_count": 208,
   "metadata": {},
   "outputs": [
    {
     "data": {
      "text/html": [
       "<div>\n",
       "<style scoped>\n",
       "    .dataframe tbody tr th:only-of-type {\n",
       "        vertical-align: middle;\n",
       "    }\n",
       "\n",
       "    .dataframe tbody tr th {\n",
       "        vertical-align: top;\n",
       "    }\n",
       "\n",
       "    .dataframe thead th {\n",
       "        text-align: right;\n",
       "    }\n",
       "</style>\n",
       "<table border=\"1\" class=\"dataframe\">\n",
       "  <thead>\n",
       "    <tr style=\"text-align: right;\">\n",
       "      <th>is_promoted</th>\n",
       "      <th>0</th>\n",
       "      <th>1</th>\n",
       "    </tr>\n",
       "    <tr>\n",
       "      <th>recruitment_channel</th>\n",
       "      <th></th>\n",
       "      <th></th>\n",
       "    </tr>\n",
       "  </thead>\n",
       "  <tbody>\n",
       "    <tr>\n",
       "      <th>other</th>\n",
       "      <td>0.914757</td>\n",
       "      <td>0.085243</td>\n",
       "    </tr>\n",
       "    <tr>\n",
       "      <th>referred</th>\n",
       "      <td>0.872549</td>\n",
       "      <td>0.127451</td>\n",
       "    </tr>\n",
       "    <tr>\n",
       "      <th>sourcing</th>\n",
       "      <td>0.912767</td>\n",
       "      <td>0.087233</td>\n",
       "    </tr>\n",
       "    <tr>\n",
       "      <th>All</th>\n",
       "      <td>0.913029</td>\n",
       "      <td>0.086971</td>\n",
       "    </tr>\n",
       "  </tbody>\n",
       "</table>\n",
       "</div>"
      ],
      "text/plain": [
       "is_promoted                 0         1\n",
       "recruitment_channel                    \n",
       "other                0.914757  0.085243\n",
       "referred             0.872549  0.127451\n",
       "sourcing             0.912767  0.087233\n",
       "All                  0.913029  0.086971"
      ]
     },
     "execution_count": 208,
     "metadata": {},
     "output_type": "execute_result"
    }
   ],
   "source": [
    "pd.crosstab(columns=[train_hr_dropna.is_promoted],index=[train_hr_dropna.recruitment_channel],margins=True,normalize='index')"
   ]
  },
  {
   "cell_type": "code",
   "execution_count": 209,
   "metadata": {},
   "outputs": [
    {
     "data": {
      "text/plain": [
       "<matplotlib.axes._subplots.AxesSubplot at 0x1fa85c900f0>"
      ]
     },
     "execution_count": 209,
     "metadata": {},
     "output_type": "execute_result"
    },
    {
     "data": {
      "image/png": "[encoded data removed]",
      "text/plain": [
       "<Figure size 432x288 with 1 Axes>"
      ]
     },
     "metadata": {
      "needs_background": "light"
     },
     "output_type": "display_data"
    }
   ],
   "source": [
    "df_recruitement_channel = pd.DataFrame(columns=[\"Recruitement Channel\", \"% of Promotion\"])\n",
    "i=0\n",
    "for rc in list(train_hr_dropna['recruitment_channel'].unique()):\n",
    "    ratio = train_hr_dropna[(train_hr_dropna['recruitment_channel']==rc)&(train_hr_dropna['is_promoted']==1)].shape[0] / train_hr_dropna[train_hr_dropna['recruitment_channel']==rc].shape[0]\n",
    "    df_recruitement_channel.loc[i] = (rc, ratio*100)\n",
    "    i += 1\n",
    "    #print(\"In {}, the ratio of Promotions is {:.2f}%\".format(field, ratio*100))    \n",
    "df_recruitement_channel = df_recruitement_channel.groupby(by=\"Recruitement Channel\").sum()\n",
    "df_recruitement_channel.plot(kind='bar',title='Promotions by Recruitement channel (%)')"
   ]
  },
  {
   "cell_type": "code",
   "execution_count": 210,
   "metadata": {},
   "outputs": [
    {
     "data": {
      "text/html": [
       "<div>\n",
       "<style scoped>\n",
       "    .dataframe tbody tr th:only-of-type {\n",
       "        vertical-align: middle;\n",
       "    }\n",
       "\n",
       "    .dataframe tbody tr th {\n",
       "        vertical-align: top;\n",
       "    }\n",
       "\n",
       "    .dataframe thead th {\n",
       "        text-align: right;\n",
       "    }\n",
       "</style>\n",
       "<table border=\"1\" class=\"dataframe\">\n",
       "  <thead>\n",
       "    <tr style=\"text-align: right;\">\n",
       "      <th>is_promoted</th>\n",
       "      <th>0</th>\n",
       "      <th>1</th>\n",
       "    </tr>\n",
       "    <tr>\n",
       "      <th>no_of_trainings</th>\n",
       "      <th></th>\n",
       "      <th></th>\n",
       "    </tr>\n",
       "  </thead>\n",
       "  <tbody>\n",
       "    <tr>\n",
       "      <th>1</th>\n",
       "      <td>0.910076</td>\n",
       "      <td>0.089924</td>\n",
       "    </tr>\n",
       "    <tr>\n",
       "      <th>2</th>\n",
       "      <td>0.922471</td>\n",
       "      <td>0.077529</td>\n",
       "    </tr>\n",
       "    <tr>\n",
       "      <th>3</th>\n",
       "      <td>0.929702</td>\n",
       "      <td>0.070298</td>\n",
       "    </tr>\n",
       "    <tr>\n",
       "      <th>4</th>\n",
       "      <td>0.942786</td>\n",
       "      <td>0.057214</td>\n",
       "    </tr>\n",
       "    <tr>\n",
       "      <th>5</th>\n",
       "      <td>0.974138</td>\n",
       "      <td>0.025862</td>\n",
       "    </tr>\n",
       "    <tr>\n",
       "      <th>6</th>\n",
       "      <td>0.970588</td>\n",
       "      <td>0.029412</td>\n",
       "    </tr>\n",
       "    <tr>\n",
       "      <th>7</th>\n",
       "      <td>1.000000</td>\n",
       "      <td>0.000000</td>\n",
       "    </tr>\n",
       "    <tr>\n",
       "      <th>8</th>\n",
       "      <td>1.000000</td>\n",
       "      <td>0.000000</td>\n",
       "    </tr>\n",
       "    <tr>\n",
       "      <th>9</th>\n",
       "      <td>1.000000</td>\n",
       "      <td>0.000000</td>\n",
       "    </tr>\n",
       "    <tr>\n",
       "      <th>10</th>\n",
       "      <td>1.000000</td>\n",
       "      <td>0.000000</td>\n",
       "    </tr>\n",
       "    <tr>\n",
       "      <th>All</th>\n",
       "      <td>0.913029</td>\n",
       "      <td>0.086971</td>\n",
       "    </tr>\n",
       "  </tbody>\n",
       "</table>\n",
       "</div>"
      ],
      "text/plain": [
       "is_promoted             0         1\n",
       "no_of_trainings                    \n",
       "1                0.910076  0.089924\n",
       "2                0.922471  0.077529\n",
       "3                0.929702  0.070298\n",
       "4                0.942786  0.057214\n",
       "5                0.974138  0.025862\n",
       "6                0.970588  0.029412\n",
       "7                1.000000  0.000000\n",
       "8                1.000000  0.000000\n",
       "9                1.000000  0.000000\n",
       "10               1.000000  0.000000\n",
       "All              0.913029  0.086971"
      ]
     },
     "execution_count": 210,
     "metadata": {},
     "output_type": "execute_result"
    }
   ],
   "source": [
    "pd.crosstab(columns=[train_hr_dropna.is_promoted],index=[train_hr_dropna.no_of_trainings],margins=True,normalize='index')"
   ]
  },
  {
   "cell_type": "code",
   "execution_count": 211,
   "metadata": {},
   "outputs": [
    {
     "data": {
      "text/plain": [
       "<matplotlib.axes._subplots.AxesSubplot at 0x1fa85ceea20>"
      ]
     },
     "execution_count": 211,
     "metadata": {},
     "output_type": "execute_result"
    },
    {
     "data": {
      "image/png": "[encoded data removed]",
      "text/plain": [
       "<Figure size 432x288 with 1 Axes>"
      ]
     },
     "metadata": {
      "needs_background": "light"
     },
     "output_type": "display_data"
    }
   ],
   "source": [
    "df_no_of_training = pd.DataFrame(columns=[\"No of Training\", \"% of Promotion\"])\n",
    "i=0\n",
    "for no in list(train_hr_dropna['no_of_trainings'].unique()):\n",
    "    ratio = train_hr_dropna[(train_hr_dropna['no_of_trainings']==no)&(train_hr_dropna['is_promoted']==1)].shape[0] / train_hr_dropna[train_hr_dropna['no_of_trainings']==no].shape[0]\n",
    "    df_no_of_training.loc[i] = (no, ratio*100)\n",
    "    i += 1\n",
    "    #print(\"In {}, the ratio of Promotions is {:.2f}%\".format(field, ratio*100))    \n",
    "df_no_of_training = df_no_of_training.groupby(by=\"No of Training\").sum()\n",
    "df_no_of_training.plot(kind='bar',title='Promotions by Number of trainings (%)')"
   ]
  },
  {
   "cell_type": "code",
   "execution_count": 212,
   "metadata": {},
   "outputs": [
    {
     "data": {
      "text/html": [
       "<div>\n",
       "<style scoped>\n",
       "    .dataframe tbody tr th:only-of-type {\n",
       "        vertical-align: middle;\n",
       "    }\n",
       "\n",
       "    .dataframe tbody tr th {\n",
       "        vertical-align: top;\n",
       "    }\n",
       "\n",
       "    .dataframe thead th {\n",
       "        text-align: right;\n",
       "    }\n",
       "</style>\n",
       "<table border=\"1\" class=\"dataframe\">\n",
       "  <thead>\n",
       "    <tr style=\"text-align: right;\">\n",
       "      <th>is_promoted</th>\n",
       "      <th>0</th>\n",
       "      <th>1</th>\n",
       "    </tr>\n",
       "    <tr>\n",
       "      <th>previous_year_rating</th>\n",
       "      <th></th>\n",
       "      <th></th>\n",
       "    </tr>\n",
       "  </thead>\n",
       "  <tbody>\n",
       "    <tr>\n",
       "      <th>1.0</th>\n",
       "      <td>0.985392</td>\n",
       "      <td>0.014608</td>\n",
       "    </tr>\n",
       "    <tr>\n",
       "      <th>2.0</th>\n",
       "      <td>0.955638</td>\n",
       "      <td>0.044362</td>\n",
       "    </tr>\n",
       "    <tr>\n",
       "      <th>3.0</th>\n",
       "      <td>0.925841</td>\n",
       "      <td>0.074159</td>\n",
       "    </tr>\n",
       "    <tr>\n",
       "      <th>4.0</th>\n",
       "      <td>0.919340</td>\n",
       "      <td>0.080660</td>\n",
       "    </tr>\n",
       "    <tr>\n",
       "      <th>5.0</th>\n",
       "      <td>0.834976</td>\n",
       "      <td>0.165024</td>\n",
       "    </tr>\n",
       "    <tr>\n",
       "      <th>All</th>\n",
       "      <td>0.913029</td>\n",
       "      <td>0.086971</td>\n",
       "    </tr>\n",
       "  </tbody>\n",
       "</table>\n",
       "</div>"
      ],
      "text/plain": [
       "is_promoted                  0         1\n",
       "previous_year_rating                    \n",
       "1.0                   0.985392  0.014608\n",
       "2.0                   0.955638  0.044362\n",
       "3.0                   0.925841  0.074159\n",
       "4.0                   0.919340  0.080660\n",
       "5.0                   0.834976  0.165024\n",
       "All                   0.913029  0.086971"
      ]
     },
     "execution_count": 212,
     "metadata": {},
     "output_type": "execute_result"
    }
   ],
   "source": [
    "pd.crosstab(columns=[train_hr_dropna.is_promoted],index=[train_hr_dropna.previous_year_rating],margins=True,normalize='index')"
   ]
  },
  {
   "cell_type": "code",
   "execution_count": 213,
   "metadata": {},
   "outputs": [
    {
     "data": {
      "image/png": "[encoded data removed]",
      "text/plain": [
       "<Figure size 432x288 with 1 Axes>"
      ]
     },
     "metadata": {
      "needs_background": "light"
     },
     "output_type": "display_data"
    }
   ],
   "source": [
    "df_previous_year_rating = pd.DataFrame(columns=[\"Previous year rating\", \"% of Promotion\"])\n",
    "i=0\n",
    "for pyr in list(train_hr_dropna['previous_year_rating'].unique()):\n",
    "    ratio = train_hr_dropna[(train_hr_dropna['previous_year_rating']==pyr)&(train_hr_dropna['is_promoted']==1)].shape[0] / train_hr_dropna[train_hr_dropna['previous_year_rating']==pyr].shape[0]\n",
    "    df_previous_year_rating.loc[i] = (pyr, ratio*100)\n",
    "    i += 1\n",
    "    #print(\"In {}, the ratio of Promotions is {:.2f}%\".format(field, ratio*100))    \n",
    "df_previous_year_rating = df_previous_year_rating.groupby(by=\"Previous year rating\").sum()\n",
    "df_previous_year_rating.plot(kind='bar',title='Promotions by Previous year Rating (%)')\n",
    "plt.show()"
   ]
  },
  {
   "cell_type": "code",
   "execution_count": 214,
   "metadata": {},
   "outputs": [],
   "source": [
    "df = train_hr_dropna.rename(columns={'awards_won?': 'awards_won','KPIs_met >80%':'KPIs_met'})"
   ]
  },
  {
   "cell_type": "code",
   "execution_count": 215,
   "metadata": {},
   "outputs": [
    {
     "data": {
      "text/html": [
       "<div>\n",
       "<style scoped>\n",
       "    .dataframe tbody tr th:only-of-type {\n",
       "        vertical-align: middle;\n",
       "    }\n",
       "\n",
       "    .dataframe tbody tr th {\n",
       "        vertical-align: top;\n",
       "    }\n",
       "\n",
       "    .dataframe thead th {\n",
       "        text-align: right;\n",
       "    }\n",
       "</style>\n",
       "<table border=\"1\" class=\"dataframe\">\n",
       "  <thead>\n",
       "    <tr style=\"text-align: right;\">\n",
       "      <th>is_promoted</th>\n",
       "      <th>0</th>\n",
       "      <th>1</th>\n",
       "    </tr>\n",
       "    <tr>\n",
       "      <th>KPIs_met</th>\n",
       "      <th></th>\n",
       "      <th></th>\n",
       "    </tr>\n",
       "  </thead>\n",
       "  <tbody>\n",
       "    <tr>\n",
       "      <th>0</th>\n",
       "      <td>0.959156</td>\n",
       "      <td>0.040844</td>\n",
       "    </tr>\n",
       "    <tr>\n",
       "      <th>1</th>\n",
       "      <td>0.829759</td>\n",
       "      <td>0.170241</td>\n",
       "    </tr>\n",
       "    <tr>\n",
       "      <th>All</th>\n",
       "      <td>0.913029</td>\n",
       "      <td>0.086971</td>\n",
       "    </tr>\n",
       "  </tbody>\n",
       "</table>\n",
       "</div>"
      ],
      "text/plain": [
       "is_promoted         0         1\n",
       "KPIs_met                       \n",
       "0            0.959156  0.040844\n",
       "1            0.829759  0.170241\n",
       "All          0.913029  0.086971"
      ]
     },
     "execution_count": 215,
     "metadata": {},
     "output_type": "execute_result"
    }
   ],
   "source": [
    "pd.crosstab(columns=[df.is_promoted],index=[df.KPIs_met],margins=True,normalize='index')"
   ]
  },
  {
   "cell_type": "code",
   "execution_count": 216,
   "metadata": {},
   "outputs": [
    {
     "data": {
      "image/png": "[encoded data removed]",
      "text/plain": [
       "<Figure size 432x288 with 1 Axes>"
      ]
     },
     "metadata": {
      "needs_background": "light"
     },
     "output_type": "display_data"
    }
   ],
   "source": [
    "df_kpi_80 = pd.DataFrame(columns=[\"KPIS met > 80%\", \"% of Promotion\"])\n",
    "i=0\n",
    "for kpi in list(train_hr_dropna['KPIs_met >80%'].unique()):\n",
    "    ratio = train_hr_dropna[(train_hr_dropna['KPIs_met >80%']==kpi)&(train_hr_dropna['is_promoted']==1)].shape[0] / train_hr_dropna[train_hr_dropna['KPIs_met >80%']==kpi].shape[0]\n",
    "    df_kpi_80.loc[i] = (kpi, ratio*100)\n",
    "    i += 1\n",
    "    #print(\"In {}, the ratio of Promotions is {:.2f}%\".format(field, ratio*100))    \n",
    "df_kpi_80 = df_kpi_80.groupby(by=\"KPIS met > 80%\").sum()\n",
    "df_kpi_80.plot(kind='bar',title='Promotions by KPI greater then 80% (%)')\n",
    "plt.show()"
   ]
  },
  {
   "cell_type": "code",
   "execution_count": 217,
   "metadata": {},
   "outputs": [
    {
     "data": {
      "image/png": "[encoded data removed]",
      "text/plain": [
       "<Figure size 432x288 with 1 Axes>"
      ]
     },
     "metadata": {
      "needs_background": "light"
     },
     "output_type": "display_data"
    }
   ],
   "source": [
    "df_awards_won = pd.DataFrame(columns=[\"Awards Won\", \"% of Promotion\"])\n",
    "i=0\n",
    "for awards in list(train_hr_dropna['awards_won?'].unique()):\n",
    "    ratio = train_hr_dropna[(train_hr_dropna['awards_won?']==awards)&(train_hr_dropna['is_promoted']==1)].shape[0] / train_hr_dropna[train_hr_dropna['awards_won?']==awards].shape[0]\n",
    "    df_awards_won.loc[i] = (awards, ratio*100)\n",
    "    i += 1\n",
    "    #print(\"In {}, the ratio of Promotions is {:.2f}%\".format(field, ratio*100))    \n",
    "df_awards_won = df_awards_won.groupby(by=\"Awards Won\").sum()\n",
    "df_awards_won.plot(kind='bar',title='Promotions by awards (%)')\n",
    "plt.show()"
   ]
  },
  {
   "cell_type": "code",
   "execution_count": 218,
   "metadata": {},
   "outputs": [],
   "source": [
    "#Label Encoding\n",
    "def transform(feature):\n",
    "    le=LabelEncoder()\n",
    "    train_hr_dropna[feature]=le.fit_transform(train_hr_dropna[feature])\n",
    "    print(le.classes_)"
   ]
  },
  {
   "cell_type": "code",
   "execution_count": 219,
   "metadata": {},
   "outputs": [
    {
     "data": {
      "text/plain": [
       "Index(['department', 'region', 'education', 'gender', 'recruitment_channel'], dtype='object')"
      ]
     },
     "execution_count": 219,
     "metadata": {},
     "output_type": "execute_result"
    }
   ],
   "source": [
    "cat_df=train_hr_dropna.select_dtypes(include='object')\n",
    "cat_df.columns"
   ]
  },
  {
   "cell_type": "code",
   "execution_count": 220,
   "metadata": {},
   "outputs": [
    {
     "name": "stderr",
     "output_type": "stream",
     "text": [
      "C:\\Users\\Chithsabesh\\AppData\\Local\\Continuum\\anaconda3\\lib\\site-packages\\ipykernel_launcher.py:4: SettingWithCopyWarning: \n",
      "A value is trying to be set on a copy of a slice from a DataFrame.\n",
      "Try using .loc[row_indexer,col_indexer] = value instead\n",
      "\n",
      "See the caveats in the documentation: http://pandas.pydata.org/pandas-docs/stable/indexing.html#indexing-view-versus-copy\n",
      "  after removing the cwd from sys.path.\n"
     ]
    },
    {
     "name": "stdout",
     "output_type": "stream",
     "text": [
      "['Analytics' 'Finance' 'HR' 'Legal' 'Operations' 'Procurement' 'R&D'\n",
      " 'Sales & Marketing' 'Technology']\n",
      "['region_1' 'region_10' 'region_11' 'region_12' 'region_13' 'region_14'\n",
      " 'region_15' 'region_16' 'region_17' 'region_18' 'region_19' 'region_2'\n",
      " 'region_20' 'region_21' 'region_22' 'region_23' 'region_24' 'region_25'\n",
      " 'region_26' 'region_27' 'region_28' 'region_29' 'region_3' 'region_30'\n",
      " 'region_31' 'region_32' 'region_33' 'region_34' 'region_4' 'region_5'\n",
      " 'region_6' 'region_7' 'region_8' 'region_9']\n",
      "[\"Bachelor's\" 'Below Secondary' \"Master's & above\"]\n",
      "['f' 'm']\n",
      "['other' 'referred' 'sourcing']\n"
     ]
    }
   ],
   "source": [
    "for col in cat_df.columns:\n",
    "    transform(col)\n"
   ]
  },
  {
   "cell_type": "code",
   "execution_count": 221,
   "metadata": {},
   "outputs": [
    {
     "data": {
      "text/html": [
       "<div>\n",
       "<style scoped>\n",
       "    .dataframe tbody tr th:only-of-type {\n",
       "        vertical-align: middle;\n",
       "    }\n",
       "\n",
       "    .dataframe tbody tr th {\n",
       "        vertical-align: top;\n",
       "    }\n",
       "\n",
       "    .dataframe thead th {\n",
       "        text-align: right;\n",
       "    }\n",
       "</style>\n",
       "<table border=\"1\" class=\"dataframe\">\n",
       "  <thead>\n",
       "    <tr style=\"text-align: right;\">\n",
       "      <th></th>\n",
       "      <th>employee_id</th>\n",
       "      <th>department</th>\n",
       "      <th>region</th>\n",
       "      <th>education</th>\n",
       "      <th>gender</th>\n",
       "      <th>recruitment_channel</th>\n",
       "      <th>no_of_trainings</th>\n",
       "      <th>age</th>\n",
       "      <th>previous_year_rating</th>\n",
       "      <th>length_of_service</th>\n",
       "      <th>KPIs_met &gt;80%</th>\n",
       "      <th>awards_won?</th>\n",
       "      <th>avg_training_score</th>\n",
       "      <th>is_promoted</th>\n",
       "    </tr>\n",
       "  </thead>\n",
       "  <tbody>\n",
       "    <tr>\n",
       "      <th>0</th>\n",
       "      <td>65438</td>\n",
       "      <td>7</td>\n",
       "      <td>31</td>\n",
       "      <td>2</td>\n",
       "      <td>0</td>\n",
       "      <td>2</td>\n",
       "      <td>1</td>\n",
       "      <td>35</td>\n",
       "      <td>5.0</td>\n",
       "      <td>8</td>\n",
       "      <td>1</td>\n",
       "      <td>0</td>\n",
       "      <td>49</td>\n",
       "      <td>0</td>\n",
       "    </tr>\n",
       "    <tr>\n",
       "      <th>1</th>\n",
       "      <td>65141</td>\n",
       "      <td>4</td>\n",
       "      <td>14</td>\n",
       "      <td>0</td>\n",
       "      <td>1</td>\n",
       "      <td>0</td>\n",
       "      <td>1</td>\n",
       "      <td>30</td>\n",
       "      <td>5.0</td>\n",
       "      <td>4</td>\n",
       "      <td>0</td>\n",
       "      <td>0</td>\n",
       "      <td>60</td>\n",
       "      <td>0</td>\n",
       "    </tr>\n",
       "    <tr>\n",
       "      <th>2</th>\n",
       "      <td>7513</td>\n",
       "      <td>7</td>\n",
       "      <td>10</td>\n",
       "      <td>0</td>\n",
       "      <td>1</td>\n",
       "      <td>2</td>\n",
       "      <td>1</td>\n",
       "      <td>34</td>\n",
       "      <td>3.0</td>\n",
       "      <td>7</td>\n",
       "      <td>0</td>\n",
       "      <td>0</td>\n",
       "      <td>50</td>\n",
       "      <td>0</td>\n",
       "    </tr>\n",
       "    <tr>\n",
       "      <th>3</th>\n",
       "      <td>2542</td>\n",
       "      <td>7</td>\n",
       "      <td>15</td>\n",
       "      <td>0</td>\n",
       "      <td>1</td>\n",
       "      <td>0</td>\n",
       "      <td>2</td>\n",
       "      <td>39</td>\n",
       "      <td>1.0</td>\n",
       "      <td>10</td>\n",
       "      <td>0</td>\n",
       "      <td>0</td>\n",
       "      <td>50</td>\n",
       "      <td>0</td>\n",
       "    </tr>\n",
       "    <tr>\n",
       "      <th>4</th>\n",
       "      <td>48945</td>\n",
       "      <td>8</td>\n",
       "      <td>18</td>\n",
       "      <td>0</td>\n",
       "      <td>1</td>\n",
       "      <td>0</td>\n",
       "      <td>1</td>\n",
       "      <td>45</td>\n",
       "      <td>3.0</td>\n",
       "      <td>2</td>\n",
       "      <td>0</td>\n",
       "      <td>0</td>\n",
       "      <td>73</td>\n",
       "      <td>0</td>\n",
       "    </tr>\n",
       "  </tbody>\n",
       "</table>\n",
       "</div>"
      ],
      "text/plain": [
       "   employee_id  department  region  education  gender  recruitment_channel  \\\n",
       "0        65438           7      31          2       0                    2   \n",
       "1        65141           4      14          0       1                    0   \n",
       "2         7513           7      10          0       1                    2   \n",
       "3         2542           7      15          0       1                    0   \n",
       "4        48945           8      18          0       1                    0   \n",
       "\n",
       "   no_of_trainings  age  previous_year_rating  length_of_service  \\\n",
       "0                1   35                   5.0                  8   \n",
       "1                1   30                   5.0                  4   \n",
       "2                1   34                   3.0                  7   \n",
       "3                2   39                   1.0                 10   \n",
       "4                1   45                   3.0                  2   \n",
       "\n",
       "   KPIs_met >80%  awards_won?  avg_training_score  is_promoted  \n",
       "0              1            0                  49            0  \n",
       "1              0            0                  60            0  \n",
       "2              0            0                  50            0  \n",
       "3              0            0                  50            0  \n",
       "4              0            0                  73            0  "
      ]
     },
     "execution_count": 221,
     "metadata": {},
     "output_type": "execute_result"
    }
   ],
   "source": [
    "train_hr_dropna.head()"
   ]
  },
  {
   "cell_type": "code",
   "execution_count": 294,
   "metadata": {},
   "outputs": [
    {
     "name": "stdout",
     "output_type": "stream",
     "text": [
      "(34062, 14)\n",
      "(14598, 14)\n"
     ]
    },
    {
     "data": {
      "text/plain": [
       "(34062, 12)"
      ]
     },
     "execution_count": 294,
     "metadata": {},
     "output_type": "execute_result"
    }
   ],
   "source": [
    "train,test = train_test_split(train_hr_dropna,test_size=0.3,\n",
    "                             random_state = 100)\n",
    "print(train.shape)\n",
    "print(test.shape)\n",
    "train_y = train['is_promoted']\n",
    "test_y  = test ['is_promoted']\n",
    "train_x = train.drop(['is_promoted','employee_id'], axis = 1)#axis 1 is for row wise operation\n",
    "test_x  = test.drop (['is_promoted','employee_id'], axis = 1)\n",
    "train_x.shape\n"
   ]
  },
  {
   "cell_type": "code",
   "execution_count": 295,
   "metadata": {},
   "outputs": [],
   "source": [
    "#Handling imbalanced class\n",
    "oversampler=SMOTE(random_state=42)\n",
    "x_train_smote,  y_train_smote = oversampler.fit_sample(train_x,train_y)"
   ]
  },
  {
   "cell_type": "code",
   "execution_count": 296,
   "metadata": {},
   "outputs": [
    {
     "name": "stderr",
     "output_type": "stream",
     "text": [
      "C:\\Users\\Chithsabesh\\AppData\\Local\\Continuum\\anaconda3\\lib\\site-packages\\sklearn\\linear_model\\logistic.py:433: FutureWarning: Default solver will be changed to 'lbfgs' in 0.22. Specify a solver to silence this warning.\n",
      "  FutureWarning)\n"
     ]
    }
   ],
   "source": [
    "logreg = LogisticRegression(random_state=1)\n",
    "logreg.fit(x_train_smote,y_train_smote)\n",
    "log_pred  = logreg.predict(test_x)\n",
    "df_logreg   = pd.DataFrame({'actual': test_y,\n",
    "                         'predicted': log_pred})"
   ]
  },
  {
   "cell_type": "code",
   "execution_count": 297,
   "metadata": {},
   "outputs": [
    {
     "name": "stdout",
     "output_type": "stream",
     "text": [
      "885 9585 367 3761\n"
     ]
    }
   ],
   "source": [
    "#MANUALLY CHECKING \n",
    "tp_log = df_logreg[(df_logreg['predicted']==1) & (df_logreg['actual']==1)].shape[0]\n",
    "tn_log = df_logreg[(df_logreg['predicted']==0) & (df_logreg['actual']==0)].shape[0]\n",
    "fp_log = df_logreg[(df_logreg['predicted']==0) & (df_logreg['actual']==1)].shape[0]\n",
    "fn_log = df_logreg[(df_logreg['predicted']==1) & (df_logreg['actual']==0)].shape[0]\n",
    "print(tp_log,tn_log,fp_log,fn_log)"
   ]
  },
  {
   "cell_type": "code",
   "execution_count": 298,
   "metadata": {},
   "outputs": [
    {
     "name": "stdout",
     "output_type": "stream",
     "text": [
      "[[9585 3761]\n",
      " [ 367  885]]\n"
     ]
    }
   ],
   "source": [
    "#Check confusion matrix\n",
    "print(confusion_matrix(test_y,log_pred))"
   ]
  },
  {
   "cell_type": "code",
   "execution_count": 378,
   "metadata": {},
   "outputs": [
    {
     "name": "stdout",
     "output_type": "stream",
     "text": [
      "0.19048643994834266\n",
      "0.9631229903536977\n",
      "0.7068690095846646\n",
      "0.3001017293997965\n"
     ]
    }
   ],
   "source": [
    "sensitivity_log = tp_log/(tp_log+fn_log)\n",
    "print(sensitivity_log)\n",
    "specificity_log = tn_log/(tn_log+fp_log)\n",
    "print(specificity_log)\n",
    "precision_log = tp_log/(tp_log+fp_log)\n",
    "print(precision_log)\n",
    "f1_score = 2*(precision_log*sensitivity_log)/(precision_log+sensitivity_log)\n",
    "print(f1_score)"
   ]
  },
  {
   "cell_type": "code",
   "execution_count": 300,
   "metadata": {},
   "outputs": [
    {
     "name": "stdout",
     "output_type": "stream",
     "text": [
      "              precision    recall  f1-score   support\n",
      "\n",
      "           0       0.96      0.72      0.82     13346\n",
      "           1       0.19      0.71      0.30      1252\n",
      "\n",
      "   micro avg       0.72      0.72      0.72     14598\n",
      "   macro avg       0.58      0.71      0.56     14598\n",
      "weighted avg       0.90      0.72      0.78     14598\n",
      "\n"
     ]
    }
   ],
   "source": [
    "#To check with report\n",
    "print(classification_report(test_y,log_pred))\n"
   ]
  },
  {
   "cell_type": "code",
   "execution_count": 380,
   "metadata": {},
   "outputs": [
    {
     "data": {
      "text/plain": [
       "TP              885.000000\n",
       "TN             9585.000000\n",
       "FP              367.000000\n",
       "FN             3761.000000\n",
       "SENSITIVITY       0.190486\n",
       "SPECIFICITY       0.963123\n",
       "Precision         0.706869\n",
       "f1_score          0.300102\n",
       "dtype: float64"
      ]
     },
     "execution_count": 380,
     "metadata": {},
     "output_type": "execute_result"
    }
   ],
   "source": [
    "logisticregression = pd.Series({'TP': tp_log, 'TN' : tn_log, 'FP': fp_log, 'FN': fn_log, 'SENSITIVITY': sensitivity_log,\n",
    "                  'SPECIFICITY': specificity_log,'Precision':precision_log,'f1_score':f1_score})\n",
    "logisticregression"
   ]
  },
  {
   "cell_type": "code",
   "execution_count": 321,
   "metadata": {},
   "outputs": [
    {
     "name": "stdout",
     "output_type": "stream",
     "text": [
      "14598\n"
     ]
    }
   ],
   "source": [
    "model_decisiontree = DecisionTreeClassifier(random_state = 1,max_features=4,max_depth=1)\n",
    "model_decisiontree\n",
    "model_decisiontree.fit(x_train_smote,y_train_smote)\n",
    "decisiontree_pred = model_decisiontree.predict(test_x)\n",
    "print(len(test_pred))\n",
    "df_decisiontree = pd.DataFrame({'actual':test_y,\n",
    "                        'predicted': decisiontree_pred})"
   ]
  },
  {
   "cell_type": "code",
   "execution_count": 322,
   "metadata": {},
   "outputs": [
    {
     "name": "stdout",
     "output_type": "stream",
     "text": [
      "205 13116 1047 230\n"
     ]
    }
   ],
   "source": [
    "#MANUALLY CHECKING \n",
    "tp_dt = df_decisiontree[(df_decisiontree['predicted']==1) & (df_decisiontree['actual']==1)].shape[0]\n",
    "tn_dt = df_decisiontree[(df_decisiontree['predicted']==0) & (df_decisiontree['actual']==0)].shape[0]\n",
    "fp_dt = df_decisiontree[(df_decisiontree['predicted']==0) & (df_decisiontree['actual']==1)].shape[0]\n",
    "fn_dt = df_decisiontree[(df_decisiontree['predicted']==1) & (df_decisiontree['actual']==0)].shape[0]\n",
    "print(tp_dt,tn_dt,fp_dt,fn_dt)"
   ]
  },
  {
   "cell_type": "code",
   "execution_count": 323,
   "metadata": {},
   "outputs": [
    {
     "name": "stdout",
     "output_type": "stream",
     "text": [
      "0.47126436781609193\n",
      "0.9260749841135353\n",
      "0.16373801916932906\n",
      "0.24303497332542973\n"
     ]
    }
   ],
   "source": [
    "sensitivity_dt = tp_dt/(tp_dt+fn_dt)\n",
    "print(sensitivity_dt)\n",
    "specificity_dt = tn_dt/(tn_dt+fp_dt)\n",
    "print(specificity_dt)\n",
    "precision_dt = tp_dt/(tp_dt+fp_dt)\n",
    "print(precision_dt)\n",
    "f1_score_dt = 2*(precision_dt*sensitivity_dt)/(precision_dt+sensitivity_dt)\n",
    "print(f1_score_dt)\n"
   ]
  },
  {
   "cell_type": "code",
   "execution_count": 381,
   "metadata": {},
   "outputs": [
    {
     "data": {
      "text/plain": [
       "TP               205.000000\n",
       "TN             13116.000000\n",
       "FP              1047.000000\n",
       "FN               230.000000\n",
       "SENSITIVITY        0.471264\n",
       "SPECIFICITY        0.926075\n",
       "Precision          0.163738\n",
       "f1_score           0.243035\n",
       "dtype: float64"
      ]
     },
     "execution_count": 381,
     "metadata": {},
     "output_type": "execute_result"
    }
   ],
   "source": [
    "decisiontree = pd.Series({'TP': tp_dt, 'TN' : tn_dt, 'FP': fp_dt, 'FN': fn_dt, 'SENSITIVITY': sensitivity_dt,\n",
    "                  'SPECIFICITY': specificity_dt,'Precision':precision_dt,'f1_score':f1_score_dt})\n",
    "decisiontree"
   ]
  },
  {
   "cell_type": "code",
   "execution_count": 325,
   "metadata": {},
   "outputs": [],
   "source": [
    "model_rf = RandomForestClassifier(random_state=1,n_estimators=50,max_features=4,max_depth=1)\n",
    "model_rf.fit(x_train_smote,y_train_smote)\n",
    "\n",
    "test_pred_rf = model_rf.predict(test_x)\n",
    "df_rf   = pd.DataFrame({'actual': test_y,\n",
    "                         'predicted': test_pred_rf})\n"
   ]
  },
  {
   "cell_type": "code",
   "execution_count": 326,
   "metadata": {},
   "outputs": [
    {
     "name": "stdout",
     "output_type": "stream",
     "text": [
      "925 8889 327 4457\n"
     ]
    }
   ],
   "source": [
    "tp_rf = df_rf[(df_rf['predicted']==1) & (df_rf['actual']==1)].shape[0]\n",
    "tn_rf = df_rf[(df_rf['predicted']==0) & (df_rf['actual']==0)].shape[0]\n",
    "fp_rf = df_rf[(df_rf['predicted']==0) & (df_rf['actual']==1)].shape[0]\n",
    "fn_rf = df_rf[(df_rf['predicted']==1) & (df_rf['actual']==0)].shape[0]\n",
    "print(tp_rf,tn_rf,fp_rf,fn_rf)"
   ]
  },
  {
   "cell_type": "code",
   "execution_count": 327,
   "metadata": {},
   "outputs": [
    {
     "name": "stdout",
     "output_type": "stream",
     "text": [
      "0.17186919360832403\n",
      "0.9645182291666666\n",
      "0.7388178913738019\n",
      "0.27886644558335844\n"
     ]
    }
   ],
   "source": [
    "sensitivity_rf = tp_rf/(tp_rf+fn_rf)\n",
    "print(sensitivity_rf)\n",
    "specificity_rf = tn_rf/(tn_rf+fp_rf)\n",
    "print(specificity_rf)\n",
    "precision_rf = tp_rf/(tp_rf+fp_rf)\n",
    "print(precision_rf)\n",
    "f1_score_rf=2*(precision_rf*sensitivity_rf)/(precision_rf+sensitivity_rf)\n",
    "print(f1_score_rf)"
   ]
  },
  {
   "cell_type": "code",
   "execution_count": 382,
   "metadata": {},
   "outputs": [
    {
     "data": {
      "text/plain": [
       "TP              925.000000\n",
       "TN             8889.000000\n",
       "FP              327.000000\n",
       "FN             4457.000000\n",
       "SENSITIVITY       0.171869\n",
       "SPECIFICITY       0.964518\n",
       "Precision         0.738818\n",
       "f1_score          0.278866\n",
       "dtype: float64"
      ]
     },
     "execution_count": 382,
     "metadata": {},
     "output_type": "execute_result"
    }
   ],
   "source": [
    "randomforest = pd.Series({'TP': tp_rf, 'TN' : tn_rf, 'FP': fp_rf, 'FN': fn_rf, 'SENSITIVITY': sensitivity_rf,\n",
    "                  'SPECIFICITY': specificity_rf,'Precision':precision_rf,'f1_score':f1_score_rf})\n",
    "randomforest"
   ]
  },
  {
   "cell_type": "code",
   "execution_count": 336,
   "metadata": {},
   "outputs": [],
   "source": [
    "model_ada = AdaBoostClassifier(random_state=1,base_estimator=DecisionTreeClassifier(max_depth=1),n_estimators=50)\n",
    "model_ada.fit(x_train_smote,y_train_smote)\n",
    "test_pred_abm = model_ada.predict(test_x)\n",
    "df_abm  = pd.DataFrame({'actual': test_y,\n",
    "                         'predicted': test_pred_abm})"
   ]
  },
  {
   "cell_type": "code",
   "execution_count": 337,
   "metadata": {},
   "outputs": [
    {
     "name": "stdout",
     "output_type": "stream",
     "text": [
      "360 12512 892 834\n"
     ]
    }
   ],
   "source": [
    "tp_ada = df_abm[(df_abm['predicted']==1) & (df_abm['actual']==1)].shape[0]\n",
    "tn_ada = df_abm[(df_abm['predicted']==0)& (df_abm['actual']==0)].shape[0]\n",
    "fp_ada = df_abm[(df_abm['predicted']==0) & (df_abm['actual']==1)].shape[0]\n",
    "fn_ada = df_abm[(df_abm['predicted']==1) & (df_abm['actual']==0)].shape[0]\n",
    "print(tp_ada,tn_ada,fp_ada,fn_ada)"
   ]
  },
  {
   "cell_type": "code",
   "execution_count": 338,
   "metadata": {},
   "outputs": [
    {
     "name": "stdout",
     "output_type": "stream",
     "text": [
      "0.3015075376884422\n",
      "0.9334527006863623\n",
      "0.28753993610223644\n",
      "0.2943581357318071\n"
     ]
    }
   ],
   "source": [
    "sensitivity_abm = tp_ada/(tp_ada+fn_ada)\n",
    "print(sensitivity_abm)\n",
    "specificity_abm = tn_ada/(tn_ada+fp_ada)\n",
    "print(specificity_abm)\n",
    "precision_abm = tp_ada/(tp_ada+fp_ada)\n",
    "print(precision_abm)\n",
    "f1_score_abm=2*(precision_abm*sensitivity_abm)/(precision_abm+sensitivity_abm)\n",
    "print(f1_score_abm)\n"
   ]
  },
  {
   "cell_type": "code",
   "execution_count": 383,
   "metadata": {},
   "outputs": [
    {
     "data": {
      "text/plain": [
       "TP               360.000000\n",
       "TN             12512.000000\n",
       "FP               892.000000\n",
       "FN               834.000000\n",
       "SENSITIVITY        0.301508\n",
       "SPECIFICITY        0.933453\n",
       "Precision          0.287540\n",
       "f1_score           0.294358\n",
       "dtype: float64"
      ]
     },
     "execution_count": 383,
     "metadata": {},
     "output_type": "execute_result"
    }
   ],
   "source": [
    "s_abm = pd.Series({'TP': tp_ada, 'TN' : tn_ada, 'FP': fp_ada, 'FN': fn_ada, 'SENSITIVITY': sensitivity_abm,\n",
    "                  'SPECIFICITY': specificity_abm,'Precision':precision_abm,'f1_score':f1_score_abm})\n",
    "s_abm"
   ]
  },
  {
   "cell_type": "code",
   "execution_count": 352,
   "metadata": {},
   "outputs": [
    {
     "data": {
      "text/plain": [
       "Index(['department', 'region', 'education', 'gender', 'recruitment_channel',\n",
       "       'no_of_trainings', 'age', 'previous_year_rating', 'length_of_service',\n",
       "       'KPIs_met >80%', 'awards_won?', 'avg_training_score'],\n",
       "      dtype='object')"
      ]
     },
     "execution_count": 352,
     "metadata": {},
     "output_type": "execute_result"
    }
   ],
   "source": [
    "train_x.columns"
   ]
  },
  {
   "cell_type": "code",
   "execution_count": 355,
   "metadata": {},
   "outputs": [
    {
     "data": {
      "text/plain": [
       "Index(['department', 'region', 'education', 'gender', 'recruitment_channel',\n",
       "       'no_of_trainings', 'age', 'previous_year_rating', 'length_of_service',\n",
       "       'KPIs_met >80%', 'awards_won?', 'avg_training_score'],\n",
       "      dtype='object')"
      ]
     },
     "execution_count": 355,
     "metadata": {},
     "output_type": "execute_result"
    }
   ],
   "source": [
    "test_x.columns"
   ]
  },
  {
   "cell_type": "code",
   "execution_count": 359,
   "metadata": {},
   "outputs": [
    {
     "name": "stderr",
     "output_type": "stream",
     "text": [
      "C:\\Users\\Chithsabesh\\AppData\\Local\\Continuum\\anaconda3\\lib\\site-packages\\sklearn\\svm\\base.py:922: ConvergenceWarning: Liblinear failed to converge, increase the number of iterations.\n",
      "  \"the number of iterations.\", ConvergenceWarning)\n"
     ]
    }
   ],
   "source": [
    "# Linear SVC\n",
    "linear_svc = LinearSVC()\n",
    "linear_svc.fit(x_train_smote,y_train_smote)\n",
    "\n",
    "test_pred_SVC = linear_svc.predict(test_x)\n",
    "df_svc   = pd.DataFrame({'actual': test_y,\n",
    "                         'predicted': test_pred_SVC})"
   ]
  },
  {
   "cell_type": "code",
   "execution_count": 360,
   "metadata": {},
   "outputs": [
    {
     "name": "stdout",
     "output_type": "stream",
     "text": [
      "80 13263 1172 83\n"
     ]
    }
   ],
   "source": [
    "tp_svm = df_svc[(df_svc['predicted']==1) & (df_svc['actual']==1)].shape[0]\n",
    "tn_svm = df_svc[(df_svc['predicted']==0)& (df_svc['actual']==0)].shape[0]\n",
    "fp_svm = df_svc[(df_svc['predicted']==0) & (df_svc['actual']==1)].shape[0]\n",
    "fn_svm = df_svc[(df_svc['predicted']==1) & (df_svc['actual']==0)].shape[0]\n",
    "print(tp_svm,tn_svm,fp_svm,fn_svm)"
   ]
  },
  {
   "cell_type": "code",
   "execution_count": 361,
   "metadata": {},
   "outputs": [
    {
     "name": "stdout",
     "output_type": "stream",
     "text": [
      "0.49079754601226994\n",
      "0.9188084516799446\n",
      "0.06389776357827476\n",
      "0.11307420494699645\n"
     ]
    }
   ],
   "source": [
    "sensitivity_svm = tp_svm/(tp_svm+fn_svm)\n",
    "print(sensitivity_svm)\n",
    "specificity_svm = tn_svm/(tn_svm+fp_svm)\n",
    "print(specificity_svm)\n",
    "\n",
    "precision_svm = tp_svm/(tp_svm+fp_svm)\n",
    "print(precision_svm)\n",
    "f1_score_svm = 2*(precision_svm*sensitivity_svm)/(precision_svm+sensitivity_svm)\n",
    "print(f1_score_svm)\n"
   ]
  },
  {
   "cell_type": "code",
   "execution_count": 384,
   "metadata": {},
   "outputs": [
    {
     "data": {
      "text/plain": [
       "TP                80.000000\n",
       "TN             13263.000000\n",
       "FP              1172.000000\n",
       "FN                83.000000\n",
       "SENSITIVITY        0.490798\n",
       "SPECIFICITY        0.918808\n",
       "Precision          0.063898\n",
       "f1_score           0.113074\n",
       "dtype: float64"
      ]
     },
     "execution_count": 384,
     "metadata": {},
     "output_type": "execute_result"
    }
   ],
   "source": [
    "s_svm = pd.Series({'TP': tp_svm, 'TN' : tn_svm, 'FP': fp_svm, 'FN': fn_svm, 'SENSITIVITY': sensitivity_svm,\n",
    "                  'SPECIFICITY': specificity_svm,'Precision':precision_svm,'f1_score':f1_score_svm})\n",
    "s_svm"
   ]
  },
  {
   "cell_type": "code",
   "execution_count": 372,
   "metadata": {},
   "outputs": [],
   "source": [
    "xgb = XGBClassifier(n_estimators=50,max_depth=4)\n",
    "xgb.fit(x_train_smote,y_train_smote)\n",
    "test_pred_xgb = xgb.predict(test_x)\n",
    "df_xgb  = pd.DataFrame({'actual': test_y,\n",
    "                         'predicted': test_pred_xgb})\n"
   ]
  },
  {
   "cell_type": "code",
   "execution_count": 373,
   "metadata": {},
   "outputs": [
    {
     "name": "stdout",
     "output_type": "stream",
     "text": [
      "311 13228 941 118\n"
     ]
    }
   ],
   "source": [
    "tp_xgb = df_xgb[(df_xgb['predicted']==1) & (df_xgb['actual']==1)].shape[0]\n",
    "tn_xgb = df_xgb[(df_xgb['predicted']==0)& (df_xgb['actual']==0)].shape[0]\n",
    "fp_xgb = df_xgb[(df_xgb['predicted']==0) & (df_xgb['actual']==1)].shape[0]\n",
    "fn_xgb = df_xgb[(df_xgb['predicted']==1) & (df_xgb['actual']==0)].shape[0]\n",
    "print(tp_xgb,tn_xgb,fp_xgb,fn_xgb)"
   ]
  },
  {
   "cell_type": "code",
   "execution_count": 374,
   "metadata": {},
   "outputs": [
    {
     "name": "stdout",
     "output_type": "stream",
     "text": [
      "0.7249417249417249\n",
      "0.9335874091326134\n",
      "0.24840255591054314\n",
      "0.37001784651992864\n"
     ]
    }
   ],
   "source": [
    "sensitivity_xgb = tp_xgb/(tp_xgb+fn_xgb)\n",
    "print(sensitivity_xgb)\n",
    "specificity_xgb = tn_xgb/(tn_xgb+fp_xgb)\n",
    "print(specificity_xgb)\n",
    "\n",
    "precision_xgb = tp_xgb/(tp_xgb+fp_xgb)\n",
    "print(precision_xgb)\n",
    "f1_score_xgb = 2*(precision_xgb*sensitivity_xgb)/(precision_xgb+sensitivity_xgb)\n",
    "print(f1_score_xgb)"
   ]
  },
  {
   "cell_type": "code",
   "execution_count": 385,
   "metadata": {},
   "outputs": [],
   "source": [
    "s_xgb = pd.Series({'TP': tp_xgb, 'TN' : tn_xgb, 'FP': fp_xgb, 'FN': fn_xgb, 'SENSITIVITY': sensitivity_xgb,\n",
    "                  'SPECIFICITY': specificity_xgb,'Precision':precision_xgb,'f1_score':f1_score_xgb})"
   ]
  },
  {
   "cell_type": "code",
   "execution_count": 387,
   "metadata": {},
   "outputs": [
    {
     "data": {
      "text/html": [
       "<div>\n",
       "<style scoped>\n",
       "    .dataframe tbody tr th:only-of-type {\n",
       "        vertical-align: middle;\n",
       "    }\n",
       "\n",
       "    .dataframe tbody tr th {\n",
       "        vertical-align: top;\n",
       "    }\n",
       "\n",
       "    .dataframe thead th {\n",
       "        text-align: right;\n",
       "    }\n",
       "</style>\n",
       "<table border=\"1\" class=\"dataframe\">\n",
       "  <thead>\n",
       "    <tr style=\"text-align: right;\">\n",
       "      <th></th>\n",
       "      <th>Logistic Regression</th>\n",
       "      <th>Decision Tree</th>\n",
       "      <th>Random Forest</th>\n",
       "      <th>Ada Boost</th>\n",
       "      <th>SVM</th>\n",
       "      <th>XGBOOST</th>\n",
       "    </tr>\n",
       "  </thead>\n",
       "  <tbody>\n",
       "    <tr>\n",
       "      <th>TP</th>\n",
       "      <td>885.000000</td>\n",
       "      <td>205.000000</td>\n",
       "      <td>925.000000</td>\n",
       "      <td>360.000000</td>\n",
       "      <td>80.000000</td>\n",
       "      <td>311.000000</td>\n",
       "    </tr>\n",
       "    <tr>\n",
       "      <th>TN</th>\n",
       "      <td>9585.000000</td>\n",
       "      <td>13116.000000</td>\n",
       "      <td>8889.000000</td>\n",
       "      <td>12512.000000</td>\n",
       "      <td>13263.000000</td>\n",
       "      <td>13228.000000</td>\n",
       "    </tr>\n",
       "    <tr>\n",
       "      <th>FP</th>\n",
       "      <td>367.000000</td>\n",
       "      <td>1047.000000</td>\n",
       "      <td>327.000000</td>\n",
       "      <td>892.000000</td>\n",
       "      <td>1172.000000</td>\n",
       "      <td>941.000000</td>\n",
       "    </tr>\n",
       "    <tr>\n",
       "      <th>FN</th>\n",
       "      <td>3761.000000</td>\n",
       "      <td>230.000000</td>\n",
       "      <td>4457.000000</td>\n",
       "      <td>834.000000</td>\n",
       "      <td>83.000000</td>\n",
       "      <td>118.000000</td>\n",
       "    </tr>\n",
       "    <tr>\n",
       "      <th>SENSITIVITY</th>\n",
       "      <td>0.190486</td>\n",
       "      <td>0.471264</td>\n",
       "      <td>0.171869</td>\n",
       "      <td>0.301508</td>\n",
       "      <td>0.490798</td>\n",
       "      <td>0.724942</td>\n",
       "    </tr>\n",
       "    <tr>\n",
       "      <th>SPECIFICITY</th>\n",
       "      <td>0.963123</td>\n",
       "      <td>0.926075</td>\n",
       "      <td>0.964518</td>\n",
       "      <td>0.933453</td>\n",
       "      <td>0.918808</td>\n",
       "      <td>0.933587</td>\n",
       "    </tr>\n",
       "    <tr>\n",
       "      <th>Precision</th>\n",
       "      <td>0.706869</td>\n",
       "      <td>0.163738</td>\n",
       "      <td>0.738818</td>\n",
       "      <td>0.287540</td>\n",
       "      <td>0.063898</td>\n",
       "      <td>0.248403</td>\n",
       "    </tr>\n",
       "    <tr>\n",
       "      <th>f1_score</th>\n",
       "      <td>0.300102</td>\n",
       "      <td>0.243035</td>\n",
       "      <td>0.278866</td>\n",
       "      <td>0.294358</td>\n",
       "      <td>0.113074</td>\n",
       "      <td>0.370018</td>\n",
       "    </tr>\n",
       "  </tbody>\n",
       "</table>\n",
       "</div>"
      ],
      "text/plain": [
       "             Logistic Regression  Decision Tree  Random Forest     Ada Boost  \\\n",
       "TP                    885.000000     205.000000     925.000000    360.000000   \n",
       "TN                   9585.000000   13116.000000    8889.000000  12512.000000   \n",
       "FP                    367.000000    1047.000000     327.000000    892.000000   \n",
       "FN                   3761.000000     230.000000    4457.000000    834.000000   \n",
       "SENSITIVITY             0.190486       0.471264       0.171869      0.301508   \n",
       "SPECIFICITY             0.963123       0.926075       0.964518      0.933453   \n",
       "Precision               0.706869       0.163738       0.738818      0.287540   \n",
       "f1_score                0.300102       0.243035       0.278866      0.294358   \n",
       "\n",
       "                      SVM       XGBOOST  \n",
       "TP              80.000000    311.000000  \n",
       "TN           13263.000000  13228.000000  \n",
       "FP            1172.000000    941.000000  \n",
       "FN              83.000000    118.000000  \n",
       "SENSITIVITY      0.490798      0.724942  \n",
       "SPECIFICITY      0.918808      0.933587  \n",
       "Precision        0.063898      0.248403  \n",
       "f1_score         0.113074      0.370018  "
      ]
     },
     "execution_count": 387,
     "metadata": {},
     "output_type": "execute_result"
    }
   ],
   "source": [
    "df_complete = pd.DataFrame({'Logistic Regression': logisticregression, 'Decision Tree': decisiontree, 'Random Forest': randomforest,'Ada Boost':s_abm,'SVM':s_svm,'XGBOOST':s_xgb})\n",
    "df_complete"
   ]
  }
 ],
 "metadata": {
  "kernelspec": {
   "display_name": "Python 3",
   "language": "python",
   "name": "python3"
  },
  "language_info": {
   "codemirror_mode": {
    "name": "ipython",
    "version": 3
   },
   "file_extension": ".py",
   "mimetype": "text/x-python",
   "name": "python",
   "nbconvert_exporter": "python",
   "pygments_lexer": "ipython3",
   "version": "3.7.1"
  }
 },
 "nbformat": 4,
 "nbformat_minor": 2
}
